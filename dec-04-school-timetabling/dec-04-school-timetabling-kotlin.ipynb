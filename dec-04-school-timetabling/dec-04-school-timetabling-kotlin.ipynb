{
 "cells": [
  {
   "cell_type": "markdown",
   "source": [
    "# OR Advent 2024 December 4: meeting rooms (Kotlin)\n",
    "\n",
    "## Assignment\n",
    "\n",
    "Hi, I'm SalvadOR, responsible for creating a school timetable to organize classes, teachers, and rooms for an upcoming semester.\n",
    "\n",
    "We have some strict requirements to meet. This is a very hard problem we face every year, and I need your help to design an optimal timetable.\n",
    "\n",
    "Here's the situation:\n",
    "\n",
    "There are 4 classes, each requiring specific teaching sessions.\n",
    "There are 4 teachers, and each teacher has assigned subjects to teach.\n",
    "There are 4 rooms, and only one class can occupy a room during any given period.\n",
    "The timetable spans 30 periods, and we must ensure that all requirements are met without any conflicts or overlaps.\n",
    "I desperately need a timetable that satisfies all requirements (each class meets with the right teacher in the right room the required number of times), avoiding any type of clashes such as double-booking a teacher, room, or class during the same period.\n",
    "\n",
    "We say a timetable is optimized when it minimizes idle periods and maximizes resource utilization (teachers and rooms).\n",
    "\n",
    "Can you help me solve this problem?\n",
    "\n",
    "## Note\n",
    "\n",
    "There is very little to optimize here, since there are no idle periods nor teachers/room resource utilization problems.\n",
    "**This was mostly a test for me (Tom) to see how Kotlin notebooks work.**"
   ],
   "metadata": {
    "collapsed": false
   }
  },
  {
   "metadata": {
    "ExecuteTime": {
     "end_time": "2024-12-05T09:16:16.720651Z",
     "start_time": "2024-12-05T09:16:16.686630Z"
    }
   },
   "cell_type": "code",
   "source": "val roomCount = 4",
   "outputs": [],
   "execution_count": 110
  },
  {
   "metadata": {},
   "cell_type": "markdown",
   "source": [
    "\n",
    "## Dependencies\n",
    "\n",
    "This Jupyter Notebook solves an OR Advent problem with [Timefold Solver](https://timefold.ai/open-source-solver), the open source planning solver AI. We add it as a dependency:"
   ]
  },
  {
   "metadata": {
    "ExecuteTime": {
     "end_time": "2024-12-05T09:16:21.824354Z",
     "start_time": "2024-12-05T09:16:16.729232Z"
    }
   },
   "cell_type": "code",
   "source": "@file:DependsOn(\"ai.timefold.solver:timefold-solver-core:1.16.0\")",
   "outputs": [],
   "execution_count": 111
  },
  {
   "cell_type": "markdown",
   "source": [
    "\n",
    "## Domain\n",
    "\n",
    "We need to assign lessons to timeslots:"
   ],
   "metadata": {
    "collapsed": false
   }
  },
  {
   "metadata": {
    "ExecuteTime": {
     "end_time": "2024-12-05T09:16:21.872934Z",
     "start_time": "2024-12-05T09:16:21.830649Z"
    }
   },
   "cell_type": "code",
   "source": [
    "import ai.timefold.solver.core.api.domain.entity.PlanningEntity\n",
    "import ai.timefold.solver.core.api.domain.lookup.PlanningId\n",
    "import ai.timefold.solver.core.api.domain.variable.PlanningVariable\n",
    "\n",
    "\n",
    "data class Timeslot(val id : Int, val dayIndex: Int, val slotIndex: Int) {\n",
    "    // No-arg constructor required for Timefold\n",
    "    constructor() : this(0,0,0)\n",
    "}"
   ],
   "outputs": [],
   "execution_count": 112
  },
  {
   "metadata": {},
   "cell_type": "markdown",
   "source": ""
  },
  {
   "metadata": {
    "ExecuteTime": {
     "end_time": "2024-12-05T09:16:21.943206Z",
     "start_time": "2024-12-05T09:16:21.904488Z"
    }
   },
   "cell_type": "code",
   "source": [
    "import java.time.LocalDateTime\n",
    "\n",
    "@PlanningEntity\n",
    "data class Lesson (\n",
    "    @PlanningId val id: Int,\n",
    "    val teacher: String,\n",
    "    val room: String,\n",
    "    val classGroup: String) {\n",
    "\n",
    "    @PlanningVariable\n",
    "    var timeslot: Timeslot? = null\n",
    "    constructor() : this(0,\"\",\"\",\"\")\n",
    "    \n",
    "}"
   ],
   "outputs": [],
   "execution_count": 113
  },
  {
   "cell_type": "markdown",
   "source": [
    "## Constraints\n",
    "\n",
    "The solver takes into account hard and soft constraints:"
   ],
   "metadata": {
    "collapsed": false
   }
  },
  {
   "cell_type": "code",
   "source": [
    "import ai.timefold.solver.core.api.score.buildin.hardmediumsoftlong.HardMediumSoftLongScore\n",
    "import ai.timefold.solver.core.api.score.buildin.hardsoft.HardSoftScore\n",
    "import ai.timefold.solver.core.api.score.stream.*\n",
    "import ai.timefold.solver.core.api.score.stream.bi.BiConstraintStream\n",
    "import java.time.Duration\n",
    "\n",
    "class OrAdventConstraintProvider : ConstraintProvider {\n",
    "\n",
    "    override fun defineConstraints(constraintFactory: ConstraintFactory): Array<Constraint>? {\n",
    "        return arrayOf(\n",
    "            // Hard constraints\n",
    "            roomConflict(constraintFactory),\n",
    "            teacherConflict(constraintFactory),\n",
    "            classGroupConflict(constraintFactory),\n",
    "        )\n",
    "    }\n",
    "\n",
    "    fun roomConflict(constraintFactory: ConstraintFactory): Constraint {\n",
    "        return constraintFactory.forEachUniquePair(\n",
    "            Lesson::class.java,\n",
    "            // ... in the same timeslot ...\n",
    "            Joiners.equal(Lesson::timeslot),\n",
    "            // ... in the same room ...\n",
    "            Joiners.equal(Lesson::room)\n",
    "        )\n",
    "            .penalize(HardSoftScore.ONE_HARD)\n",
    "            .asConstraint(\"Room conflict\");\n",
    "    }\n",
    "\n",
    "    fun teacherConflict(constraintFactory: ConstraintFactory): Constraint {\n",
    "        return constraintFactory.forEachUniquePair(\n",
    "            Lesson::class.java,\n",
    "            // ... in the same timeslot ...\n",
    "            Joiners.equal(Lesson::timeslot),\n",
    "            // ... with the same teacher ...\n",
    "            Joiners.equal(Lesson::teacher)\n",
    "        )\n",
    "            .penalize(HardSoftScore.ONE_HARD)\n",
    "            .asConstraint(\"Teacher conflict\");\n",
    "    }\n",
    "\n",
    "    fun classGroupConflict(constraintFactory: ConstraintFactory): Constraint {\n",
    "        return constraintFactory.forEachUniquePair(\n",
    "            Lesson::class.java,\n",
    "            // ... in the same timeslot ...\n",
    "            Joiners.equal(Lesson::timeslot),\n",
    "            // ... with the same class group ...\n",
    "            Joiners.equal(Lesson::classGroup)\n",
    "        )\n",
    "            .penalize(HardSoftScore.ONE_HARD)\n",
    "            .asConstraint(\"Class group conflict\");\n",
    "    }\n",
    "}"
   ],
   "metadata": {
    "collapsed": false,
    "ExecuteTime": {
     "end_time": "2024-12-05T09:16:22.059190Z",
     "start_time": "2024-12-05T09:16:21.961109Z"
    }
   },
   "outputs": [],
   "execution_count": 114
  },
  {
   "cell_type": "markdown",
   "source": [
    "### The dataset class\n",
    "\n",
    "This class represents the dataset to solve:"
   ],
   "metadata": {
    "collapsed": false
   }
  },
  {
   "cell_type": "code",
   "source": [
    "import ai.timefold.solver.core.api.domain.solution.PlanningEntityCollectionProperty\n",
    "import ai.timefold.solver.core.api.domain.solution.PlanningScore\n",
    "import ai.timefold.solver.core.api.domain.solution.PlanningSolution\n",
    "import ai.timefold.solver.core.api.domain.valuerange.ValueRangeProvider\n",
    "import ai.timefold.solver.core.api.score.buildin.hardsoft.HardSoftScore\n",
    "\n",
    "@PlanningSolution\n",
    "data class OrAdventDataset(\n",
    "    \n",
    "    @ValueRangeProvider\n",
    "    val timeslots: List<Timeslot>,\n",
    "\n",
    "    @PlanningEntityCollectionProperty\n",
    "    val lessons: List<Lesson>) {\n",
    "\n",
    "    @PlanningScore\n",
    "    var score: HardSoftScore? = null\n",
    "\n",
    "    // No-arg constructor required for Timefold\n",
    "    constructor() : this(emptyList(), emptyList())\n",
    "}"
   ],
   "metadata": {
    "collapsed": false,
    "ExecuteTime": {
     "end_time": "2024-12-05T09:16:22.101554Z",
     "start_time": "2024-12-05T09:16:22.063650Z"
    }
   },
   "outputs": [],
   "execution_count": 115
  },
  {
   "cell_type": "markdown",
   "source": "## Input reader",
   "metadata": {
    "collapsed": false
   }
  },
  {
   "cell_type": "code",
   "source": [
    "import java.io.File\n",
    "\n",
    "fun readDataset(): OrAdventDataset {\n",
    "    val timeslots = mutableListOf<Timeslot>()\n",
    "\n",
    "    val input: String = File(\"./instance_list.txt\").readText()\n",
    "    val lines = input.lines().filter {\n",
    "        it.isNotBlank() && !it.startsWith(\"#\") // Skip empty or commented lines\n",
    "    }\n",
    "    val firstLine : String = lines.get(0);\n",
    "    val digits = Regex(\"\\\\d+\").findAll(firstLine).map { it.value.toInt() }.toList()\n",
    "    val (periodsPerDay, daysPerWeek) = digits\n",
    "\n",
    "    var id = 0;\n",
    "    for (period in 1..periodsPerDay) {\n",
    "        for (day in 1..daysPerWeek) {\n",
    "            timeslots.add(Timeslot(id, day, period))\n",
    "            id++;\n",
    "        }\n",
    "    }\n",
    "\n",
    "    id = 0;\n",
    "    val lessons = mutableListOf<Lesson>()\n",
    "    val regex = Regex(\"Schedule (\\\\w+) taught (\\\\w+) by (\\\\w+) in (\\\\w+) (\\\\d+) times\")\n",
    "    lines.drop(1).forEach { line ->\n",
    "        val result = regex.find(line);\n",
    "        if(result != null) {\n",
    "            val (classId, subjectId, teacherId, roomId, times) = result.destructured\n",
    "            lessons.add(Lesson(id, teacherId, roomId, classId))\n",
    "            id++;\n",
    "        }\n",
    "    }\n",
    "    return OrAdventDataset(timeslots, lessons)\n",
    "}"
   ],
   "metadata": {
    "collapsed": false,
    "ExecuteTime": {
     "end_time": "2024-12-05T09:16:22.193976Z",
     "start_time": "2024-12-05T09:16:22.116294Z"
    }
   },
   "outputs": [],
   "execution_count": 116
  },
  {
   "cell_type": "markdown",
   "source": [
    "## Solve it\n",
    "\n",
    "Configure and run the solver:"
   ],
   "metadata": {
    "collapsed": false
   }
  },
  {
   "cell_type": "code",
   "source": [
    "import ai.timefold.solver.core.config.solver.SolverConfig\n",
    "import ai.timefold.solver.core.api.solver.SolverFactory\n",
    "import ai.timefold.solver.core.api.solver.Solver\n",
    "import ai.timefold.solver.core.config.solver.termination.TerminationConfig\n",
    "\n",
    "val solverFactory: SolverFactory<OrAdventDataset> = SolverFactory.create(SolverConfig()\n",
    "        .withSolutionClass(OrAdventDataset::class.java)\n",
    "        .withEntityClasses(Lesson::class.java)\n",
    "        .withConstraintProviderClass(OrAdventConstraintProvider::class.java)\n",
    "        // Stop the solver if no better solution is found for 3 seconds.\n",
    "        .withTerminationConfig(TerminationConfig().withUnimprovedSecondsSpentLimit(3L)))\n",
    "\n",
    "val problem: OrAdventDataset = readDataset()\n",
    "\n",
    "println(\"Solving the problem ...\")\n",
    "val solver: Solver<OrAdventDataset> = solverFactory.buildSolver()\n",
    "val solution: OrAdventDataset = solver.solve(problem)\n",
    "println(\"Solving finished with score (${solution.score}).\")"
   ],
   "metadata": {
    "collapsed": false,
    "ExecuteTime": {
     "end_time": "2024-12-05T09:16:25.316470Z",
     "start_time": "2024-12-05T09:16:22.200143Z"
    }
   },
   "outputs": [
    {
     "name": "stdout",
     "output_type": "stream",
     "text": [
      "Solving the problem ...\n",
      "Solving finished with score (0hard/0soft).\n"
     ]
    }
   ],
   "execution_count": 117
  },
  {
   "metadata": {
    "ExecuteTime": {
     "end_time": "2024-12-05T09:16:25.334532Z",
     "start_time": "2024-12-05T09:16:25.329167Z"
    }
   },
   "cell_type": "code",
   "source": "",
   "outputs": [],
   "execution_count": null
  },
  {
   "cell_type": "markdown",
   "source": "## Visualize the solution",
   "metadata": {
    "collapsed": false
   }
  },
  {
   "cell_type": "code",
   "source": [
    "val lessonsOnTimeslot = solution.lessons.groupBy { t -> t.timeslot?.id }\n",
    "HTML(buildString {\n",
    "    append(\"<p style='font-size: x-large'>Score: ${solution.score}</p>\")\n",
    "    append(\"<p><b>By room</b></p>\")\n",
    "    append(\"<table><tr><th/>\")\n",
    "    for (i in 1 until roomCount+1) {\n",
    "        append(\"<th>${i}</th>\")\n",
    "    }\n",
    "    append(\"</tr>\")\n",
    "    for (timeslotKey in lessonsOnTimeslot.keys.sortedBy { i -> i }) {\n",
    "        append(\"<tr><th>${timeslotKey}</th>\")\n",
    "        for (lesson in lessonsOnTimeslot.get(timeslotKey)!!.sortedBy { timeslot -> timeslot.room }) {\n",
    "            append(\"<td>\")\n",
    "            append(\"Teacher:\" + lesson.teacher + \"<br/>\")\n",
    "            append(\"Class:\" + lesson.classGroup)\n",
    "            append(\"</td>\")\n",
    "        }\n",
    "        append(\"</tr>\")\n",
    "    }\n",
    "    append(\"</table>\")\n",
    "})"
   ],
   "metadata": {
    "collapsed": false,
    "ExecuteTime": {
     "end_time": "2024-12-05T09:16:25.640297Z",
     "start_time": "2024-12-05T09:16:25.342605Z"
    }
   },
   "outputs": [
    {
     "data": {
      "text/html": [
       "<p style='font-size: x-large'>Score: 0hard/0soft</p><p><b>By room</b></p><table><tr><th/><th>1</th><th>2</th><th>3</th><th>4</th></tr><tr><th>0</th><td>Teacher:T4<br/>Class:C3</td><td>Teacher:T1<br/>Class:C1</td><td>Teacher:T3<br/>Class:C4</td><td>Teacher:T2<br/>Class:C2</td></tr><tr><th>1</th><td>Teacher:T2<br/>Class:C4</td><td>Teacher:T4<br/>Class:C2</td><td>Teacher:T1<br/>Class:C1</td><td>Teacher:T3<br/>Class:C3</td></tr><tr><th>2</th><td>Teacher:T1<br/>Class:C1</td><td>Teacher:T2<br/>Class:C2</td><td>Teacher:T3<br/>Class:C3</td><td>Teacher:T4<br/>Class:C4</td></tr><tr><th>3</th><td>Teacher:T4<br/>Class:C2</td><td>Teacher:T1<br/>Class:C3</td><td>Teacher:T2<br/>Class:C4</td><td>Teacher:T3<br/>Class:C1</td></tr><tr><th>4</th><td>Teacher:T4<br/>Class:C1</td><td>Teacher:T3<br/>Class:C2</td><td>Teacher:T1<br/>Class:C4</td><td>Teacher:T2<br/>Class:C3</td></tr><tr><th>5</th><td>Teacher:T2<br/>Class:C3</td><td>Teacher:T1<br/>Class:C4</td><td>Teacher:T3<br/>Class:C2</td><td>Teacher:T4<br/>Class:C1</td></tr><tr><th>6</th><td>Teacher:T4<br/>Class:C3</td><td>Teacher:T3<br/>Class:C1</td><td>Teacher:T1<br/>Class:C4</td><td>Teacher:T2<br/>Class:C2</td></tr><tr><th>7</th><td>Teacher:T4<br/>Class:C4</td><td>Teacher:T1<br/>Class:C1</td><td>Teacher:T3<br/>Class:C2</td><td>Teacher:T2<br/>Class:C3</td></tr><tr><th>8</th><td>Teacher:T3<br/>Class:C4</td><td>Teacher:T2<br/>Class:C1</td><td>Teacher:T1<br/>Class:C3</td><td>Teacher:T4<br/>Class:C2</td></tr><tr><th>9</th><td>Teacher:T2<br/>Class:C1</td><td>Teacher:T3<br/>Class:C2</td><td>Teacher:T4<br/>Class:C4</td><td>Teacher:T1<br/>Class:C3</td></tr><tr><th>10</th><td>Teacher:T4<br/>Class:C3</td><td>Teacher:T3<br/>Class:C2</td><td>Teacher:T1<br/>Class:C4</td><td>Teacher:T2<br/>Class:C1</td></tr><tr><th>11</th><td>Teacher:T3<br/>Class:C4</td><td>Teacher:T2<br/>Class:C2</td><td>Teacher:T4<br/>Class:C3</td><td>Teacher:T1<br/>Class:C1</td></tr><tr><th>12</th><td>Teacher:T4<br/>Class:C3</td><td>Teacher:T3<br/>Class:C4</td><td>Teacher:T1<br/>Class:C1</td><td>Teacher:T2<br/>Class:C2</td></tr><tr><th>13</th><td>Teacher:T4<br/>Class:C4</td><td>Teacher:T2<br/>Class:C2</td><td>Teacher:T3<br/>Class:C3</td><td>Teacher:T1<br/>Class:C1</td></tr><tr><th>14</th><td>Teacher:T4<br/>Class:C1</td><td>Teacher:T1<br/>Class:C4</td><td>Teacher:T3<br/>Class:C3</td><td>Teacher:T2<br/>Class:C2</td></tr><tr><th>15</th><td>Teacher:T1<br/>Class:C4</td><td>Teacher:T2<br/>Class:C1</td><td>Teacher:T3<br/>Class:C2</td><td>Teacher:T4<br/>Class:C3</td></tr><tr><th>16</th><td>Teacher:T1<br/>Class:C3</td><td>Teacher:T2<br/>Class:C4</td><td>Teacher:T4<br/>Class:C2</td><td>Teacher:T3<br/>Class:C1</td></tr><tr><th>17</th><td>Teacher:T3<br/>Class:C3</td><td>Teacher:T2<br/>Class:C1</td><td>Teacher:T1<br/>Class:C4</td><td>Teacher:T4<br/>Class:C2</td></tr><tr><th>18</th><td>Teacher:T1<br/>Class:C4</td><td>Teacher:T3<br/>Class:C3</td><td>Teacher:T2<br/>Class:C1</td><td>Teacher:T4<br/>Class:C2</td></tr><tr><th>19</th><td>Teacher:T3<br/>Class:C2</td><td>Teacher:T2<br/>Class:C3</td><td>Teacher:T4<br/>Class:C1</td><td>Teacher:T1<br/>Class:C4</td></tr><tr><th>20</th><td>Teacher:T2<br/>Class:C2</td><td>Teacher:T4<br/>Class:C4</td><td>Teacher:T3<br/>Class:C3</td><td>Teacher:T1<br/>Class:C1</td></tr><tr><th>21</th><td>Teacher:T2<br/>Class:C1</td><td>Teacher:T4<br/>Class:C4</td><td>Teacher:T1<br/>Class:C3</td><td>Teacher:T3<br/>Class:C2</td></tr><tr><th>22</th><td>Teacher:T4<br/>Class:C3</td><td>Teacher:T2<br/>Class:C4</td><td>Teacher:T3<br/>Class:C1</td><td>Teacher:T1<br/>Class:C2</td></tr><tr><th>23</th><td>Teacher:T2<br/>Class:C4</td><td>Teacher:T4<br/>Class:C1</td><td>Teacher:T3<br/>Class:C2</td><td>Teacher:T1<br/>Class:C3</td></tr><tr><th>24</th><td>Teacher:T1<br/>Class:C1</td><td>Teacher:T4<br/>Class:C2</td><td>Teacher:T3<br/>Class:C4</td><td>Teacher:T2<br/>Class:C3</td></tr><tr><th>25</th><td>Teacher:T1<br/>Class:C2</td><td>Teacher:T4<br/>Class:C1</td><td>Teacher:T2<br/>Class:C3</td><td>Teacher:T3<br/>Class:C4</td></tr><tr><th>26</th><td>Teacher:T3<br/>Class:C1</td><td>Teacher:T2<br/>Class:C3</td><td>Teacher:T1<br/>Class:C4</td><td>Teacher:T4<br/>Class:C2</td></tr><tr><th>27</th><td>Teacher:T3<br/>Class:C4</td><td>Teacher:T2<br/>Class:C2</td><td>Teacher:T4<br/>Class:C1</td><td>Teacher:T1<br/>Class:C3</td></tr><tr><th>28</th><td>Teacher:T4<br/>Class:C2</td><td>Teacher:T2<br/>Class:C1</td><td>Teacher:T1<br/>Class:C4</td><td>Teacher:T3<br/>Class:C3</td></tr><tr><th>29</th><td>Teacher:T4<br/>Class:C3</td><td>Teacher:T2<br/>Class:C1</td><td>Teacher:T3<br/>Class:C2</td><td>Teacher:T1<br/>Class:C4</td></tr></table>"
      ]
     },
     "execution_count": 119,
     "metadata": {},
     "output_type": "execute_result"
    }
   ],
   "execution_count": 119
  },
  {
   "cell_type": "markdown",
   "source": [
    "## Statistics\n",
    "\n",
    "For a big dataset, a schedule visualization is often too verbose.\n",
    "Let's visualize the solution through statistics:"
   ],
   "metadata": {
    "collapsed": false
   }
  },
  {
   "cell_type": "code",
   "source": [
    "%use kandy"
   ],
   "metadata": {
    "collapsed": false,
    "ExecuteTime": {
     "end_time": "2024-12-05T09:16:28.078813Z",
     "start_time": "2024-12-05T09:16:25.649173Z"
    }
   },
   "outputs": [],
   "execution_count": 120
  },
  {
   "cell_type": "code",
   "source": [
    "val timeslotIds = solution.timeslots.map { it.id }\n",
    "val lessonsInTimeslot = solution.timeslots.map { t -> solution.lessons.filter{ it.timeslot == t }.count() }\n",
    "\n",
    "plot {\n",
    "    layout.title = \"Events per room\"\n",
    "    bars {\n",
    "        x(timeslotIds) { axis.name = \"Timeslots\" }\n",
    "        y(lessonsInTimeslot) { axis.name = \"Lessons\" }\n",
    "    }\n",
    "}"
   ],
   "metadata": {
    "collapsed": false,
    "ExecuteTime": {
     "end_time": "2024-12-05T09:16:28.225185Z",
     "start_time": "2024-12-05T09:16:28.083143Z"
    }
   },
   "outputs": [
    {
     "data": {
      "text/html": [
       "            <iframe src='about:blank' style='border:none !important;' width='600' height='400' srcdoc=\"&lt;html lang=&quot;en&quot;>\n",
       "   &lt;head>\n",
       "       &lt;meta charset=&quot;UTF-8&quot;>\n",
       "       &lt;style> html, body { margin: 0; overflow: hidden; } &lt;/style>\n",
       "       &lt;script type=&quot;text/javascript&quot; data-lets-plot-script=&quot;library&quot; src=&quot;https://cdn.jsdelivr.net/gh/JetBrains/lets-plot@v4.3.3/js-package/distr/lets-plot.min.js&quot;>&lt;/script>\n",
       "   &lt;/head>\n",
       "   &lt;body>\n",
       "          &lt;div id=&quot;gD3uta&quot;>&lt;/div>\n",
       "   &lt;script type=&quot;text/javascript&quot; data-lets-plot-script=&quot;plot&quot;>\n",
       "       var plotSpec={\n",
       "&quot;ggtitle&quot;:{\n",
       "&quot;text&quot;:&quot;Events per room&quot;\n",
       "},\n",
       "&quot;mapping&quot;:{\n",
       "},\n",
       "&quot;data&quot;:{\n",
       "},\n",
       "&quot;kind&quot;:&quot;plot&quot;,\n",
       "&quot;scales&quot;:[{\n",
       "&quot;aesthetic&quot;:&quot;x&quot;,\n",
       "&quot;name&quot;:&quot;Timeslots&quot;,\n",
       "&quot;limits&quot;:[null,null]\n",
       "},{\n",
       "&quot;aesthetic&quot;:&quot;y&quot;,\n",
       "&quot;name&quot;:&quot;Lessons&quot;,\n",
       "&quot;limits&quot;:[null,null]\n",
       "}],\n",
       "&quot;layers&quot;:[{\n",
       "&quot;mapping&quot;:{\n",
       "&quot;x&quot;:&quot;x&quot;,\n",
       "&quot;y&quot;:&quot;y&quot;\n",
       "},\n",
       "&quot;stat&quot;:&quot;identity&quot;,\n",
       "&quot;data&quot;:{\n",
       "&quot;x&quot;:[0.0,1.0,2.0,3.0,4.0,5.0,6.0,7.0,8.0,9.0,10.0,11.0,12.0,13.0,14.0,15.0,16.0,17.0,18.0,19.0,20.0,21.0,22.0,23.0,24.0,25.0,26.0,27.0,28.0,29.0],\n",
       "&quot;y&quot;:[4.0,4.0,4.0,4.0,4.0,4.0,4.0,4.0,4.0,4.0,4.0,4.0,4.0,4.0,4.0,4.0,4.0,4.0,4.0,4.0,4.0,4.0,4.0,4.0,4.0,4.0,4.0,4.0,4.0,4.0]\n",
       "},\n",
       "&quot;sampling&quot;:&quot;none&quot;,\n",
       "&quot;position&quot;:&quot;dodge&quot;,\n",
       "&quot;geom&quot;:&quot;bar&quot;\n",
       "}]\n",
       "};\n",
       "       var plotContainer = document.getElementById(&quot;gD3uta&quot;);\n",
       "       LetsPlot.buildPlotFromProcessedSpecs(plotSpec, -1, -1, plotContainer);\n",
       "   &lt;/script>\n",
       "   &lt;/body>\n",
       "&lt;/html>\"></iframe>            <svg xmlns=\"http://www.w3.org/2000/svg\" xmlns:xlink=\"http://www.w3.org/1999/xlink\" display=\"block\" class=\"plt-container\" id=0ede9d72-e12c-497e-91b2-a5f6305b0139 width=\"100%\" height=\"100%\" style=\"max-width: 600.0px; max-height: 400.0px;\" viewBox=\"0 0 600.0 400.0\" preserveAspectRatio=\"xMinYMin meet\">\n",
       "  <style type=\"text/css\">\n",
       "  .plt-container {\n",
       "   font-family: Lucida Grande, sans-serif;\n",
       "   user-select: none;\n",
       "   -webkit-user-select: none;\n",
       "   -moz-user-select: none;\n",
       "   -ms-user-select: none;\n",
       "}\n",
       "text {\n",
       "   text-rendering: optimizeLegibility;\n",
       "}\n",
       "#pixO5NJ .plot-title {\n",
       "   fill: #474747;\n",
       "   font-family: Lucida Grande, sans-serif;\n",
       "   font-size: 16.0px;\n",
       "   font-weight: normal;\n",
       "   font-style: normal;   \n",
       "}\n",
       "#pixO5NJ .plot-subtitle {\n",
       "   fill: #474747;\n",
       "   font-family: Lucida Grande, sans-serif;\n",
       "   font-size: 15.0px;\n",
       "   font-weight: normal;\n",
       "   font-style: normal;   \n",
       "}\n",
       "#pixO5NJ .plot-caption {\n",
       "   fill: #474747;\n",
       "   font-family: Lucida Grande, sans-serif;\n",
       "   font-size: 13.0px;\n",
       "   font-weight: normal;\n",
       "   font-style: normal;   \n",
       "}\n",
       "#pixO5NJ .legend-title {\n",
       "   fill: #474747;\n",
       "   font-family: Lucida Grande, sans-serif;\n",
       "   font-size: 15.0px;\n",
       "   font-weight: normal;\n",
       "   font-style: normal;   \n",
       "}\n",
       "#pixO5NJ .legend-item {\n",
       "   fill: #474747;\n",
       "   font-family: Lucida Grande, sans-serif;\n",
       "   font-size: 13.0px;\n",
       "   font-weight: normal;\n",
       "   font-style: normal;   \n",
       "}\n",
       "#pixO5NJ .axis-title-x {\n",
       "   fill: #474747;\n",
       "   font-family: Lucida Grande, sans-serif;\n",
       "   font-size: 15.0px;\n",
       "   font-weight: normal;\n",
       "   font-style: normal;   \n",
       "}\n",
       "#pixO5NJ .axis-text-x {\n",
       "   fill: #474747;\n",
       "   font-family: Lucida Grande, sans-serif;\n",
       "   font-size: 13.0px;\n",
       "   font-weight: normal;\n",
       "   font-style: normal;   \n",
       "}\n",
       "#dt9zffM .axis-tooltip-text-x {\n",
       "   fill: #ffffff;\n",
       "   font-family: Lucida Grande, sans-serif;\n",
       "   font-size: 13.0px;\n",
       "   font-weight: normal;\n",
       "   font-style: normal;   \n",
       "}\n",
       "#pixO5NJ .axis-title-y {\n",
       "   fill: #474747;\n",
       "   font-family: Lucida Grande, sans-serif;\n",
       "   font-size: 15.0px;\n",
       "   font-weight: normal;\n",
       "   font-style: normal;   \n",
       "}\n",
       "#pixO5NJ .axis-text-y {\n",
       "   fill: #474747;\n",
       "   font-family: Lucida Grande, sans-serif;\n",
       "   font-size: 13.0px;\n",
       "   font-weight: normal;\n",
       "   font-style: normal;   \n",
       "}\n",
       "#dt9zffM .axis-tooltip-text-y {\n",
       "   fill: #ffffff;\n",
       "   font-family: Lucida Grande, sans-serif;\n",
       "   font-size: 13.0px;\n",
       "   font-weight: normal;\n",
       "   font-style: normal;   \n",
       "}\n",
       "#pixO5NJ .facet-strip-text-x {\n",
       "   fill: #474747;\n",
       "   font-family: Lucida Grande, sans-serif;\n",
       "   font-size: 13.0px;\n",
       "   font-weight: normal;\n",
       "   font-style: normal;   \n",
       "}\n",
       "#pixO5NJ .facet-strip-text-y {\n",
       "   fill: #474747;\n",
       "   font-family: Lucida Grande, sans-serif;\n",
       "   font-size: 13.0px;\n",
       "   font-weight: normal;\n",
       "   font-style: normal;   \n",
       "}\n",
       "#dt9zffM .tooltip-text {\n",
       "   fill: #474747;\n",
       "   font-family: Lucida Grande, sans-serif;\n",
       "   font-size: 13.0px;\n",
       "   font-weight: normal;\n",
       "   font-style: normal;   \n",
       "}\n",
       "#dt9zffM .tooltip-title {\n",
       "   fill: #474747;\n",
       "   font-family: Lucida Grande, sans-serif;\n",
       "   font-size: 13.0px;\n",
       "   font-weight: bold;\n",
       "   font-style: normal;   \n",
       "}\n",
       "#dt9zffM .tooltip-label {\n",
       "   fill: #474747;\n",
       "   font-family: Lucida Grande, sans-serif;\n",
       "   font-size: 13.0px;\n",
       "   font-weight: bold;\n",
       "   font-style: normal;   \n",
       "}\n",
       "\n",
       "  </style>\n",
       "  <g id=\"pixO5NJ\">\n",
       "    <path fill-rule=\"evenodd\" fill=\"rgb(255,255,255)\" fill-opacity=\"1.0\" d=\"M0.0 0.0 L0.0 400.0 L600.0 400.0 L600.0 0.0 Z\">\n",
       "    </path>\n",
       "    <g transform=\"translate(29.5 26.5 ) \">\n",
       "      <g>\n",
       "        <g transform=\"translate(27.034701220281416 0.0 ) \">\n",
       "          <g>\n",
       "            <line x1=\"31.75425679922629\" y1=\"0.0\" x2=\"31.75425679922629\" y2=\"321.0\" stroke=\"rgb(233,233,233)\" stroke-opacity=\"1.0\" stroke-width=\"1.0\" fill=\"none\">\n",
       "            </line>\n",
       "            <line x1=\"113.38473700289285\" y1=\"0.0\" x2=\"113.38473700289285\" y2=\"321.0\" stroke=\"rgb(233,233,233)\" stroke-opacity=\"1.0\" stroke-width=\"1.0\" fill=\"none\">\n",
       "            </line>\n",
       "            <line x1=\"195.0152172065594\" y1=\"0.0\" x2=\"195.0152172065594\" y2=\"321.0\" stroke=\"rgb(233,233,233)\" stroke-opacity=\"1.0\" stroke-width=\"1.0\" fill=\"none\">\n",
       "            </line>\n",
       "            <line x1=\"276.645697410226\" y1=\"0.0\" x2=\"276.645697410226\" y2=\"321.0\" stroke=\"rgb(233,233,233)\" stroke-opacity=\"1.0\" stroke-width=\"1.0\" fill=\"none\">\n",
       "            </line>\n",
       "            <line x1=\"358.27617761389257\" y1=\"0.0\" x2=\"358.27617761389257\" y2=\"321.0\" stroke=\"rgb(233,233,233)\" stroke-opacity=\"1.0\" stroke-width=\"1.0\" fill=\"none\">\n",
       "            </line>\n",
       "            <line x1=\"439.9066578175591\" y1=\"0.0\" x2=\"439.9066578175591\" y2=\"321.0\" stroke=\"rgb(233,233,233)\" stroke-opacity=\"1.0\" stroke-width=\"1.0\" fill=\"none\">\n",
       "            </line>\n",
       "            <line x1=\"521.5371380212256\" y1=\"0.0\" x2=\"521.5371380212256\" y2=\"321.0\" stroke=\"rgb(233,233,233)\" stroke-opacity=\"1.0\" stroke-width=\"1.0\" fill=\"none\">\n",
       "            </line>\n",
       "          </g>\n",
       "        </g>\n",
       "        <g transform=\"translate(27.034701220281416 0.0 ) \">\n",
       "          <g>\n",
       "            <line x1=\"0.0\" y1=\"321.0\" x2=\"536.9652987797186\" y2=\"321.0\" stroke=\"rgb(233,233,233)\" stroke-opacity=\"1.0\" stroke-width=\"1.0\" fill=\"none\">\n",
       "            </line>\n",
       "            <line x1=\"0.0\" y1=\"282.7857142857143\" x2=\"536.9652987797186\" y2=\"282.7857142857143\" stroke=\"rgb(233,233,233)\" stroke-opacity=\"1.0\" stroke-width=\"1.0\" fill=\"none\">\n",
       "            </line>\n",
       "            <line x1=\"0.0\" y1=\"244.57142857142856\" x2=\"536.9652987797186\" y2=\"244.57142857142856\" stroke=\"rgb(233,233,233)\" stroke-opacity=\"1.0\" stroke-width=\"1.0\" fill=\"none\">\n",
       "            </line>\n",
       "            <line x1=\"0.0\" y1=\"206.35714285714286\" x2=\"536.9652987797186\" y2=\"206.35714285714286\" stroke=\"rgb(233,233,233)\" stroke-opacity=\"1.0\" stroke-width=\"1.0\" fill=\"none\">\n",
       "            </line>\n",
       "            <line x1=\"0.0\" y1=\"168.14285714285714\" x2=\"536.9652987797186\" y2=\"168.14285714285714\" stroke=\"rgb(233,233,233)\" stroke-opacity=\"1.0\" stroke-width=\"1.0\" fill=\"none\">\n",
       "            </line>\n",
       "            <line x1=\"0.0\" y1=\"129.92857142857142\" x2=\"536.9652987797186\" y2=\"129.92857142857142\" stroke=\"rgb(233,233,233)\" stroke-opacity=\"1.0\" stroke-width=\"1.0\" fill=\"none\">\n",
       "            </line>\n",
       "            <line x1=\"0.0\" y1=\"91.71428571428572\" x2=\"536.9652987797186\" y2=\"91.71428571428572\" stroke=\"rgb(233,233,233)\" stroke-opacity=\"1.0\" stroke-width=\"1.0\" fill=\"none\">\n",
       "            </line>\n",
       "            <line x1=\"0.0\" y1=\"53.5\" x2=\"536.9652987797186\" y2=\"53.5\" stroke=\"rgb(233,233,233)\" stroke-opacity=\"1.0\" stroke-width=\"1.0\" fill=\"none\">\n",
       "            </line>\n",
       "            <line x1=\"0.0\" y1=\"15.285714285714278\" x2=\"536.9652987797186\" y2=\"15.285714285714278\" stroke=\"rgb(233,233,233)\" stroke-opacity=\"1.0\" stroke-width=\"1.0\" fill=\"none\">\n",
       "            </line>\n",
       "          </g>\n",
       "        </g>\n",
       "      </g>\n",
       "      <g clip-path=\"url(#cObAWTU)\" clip-bounds-jfx=\"[rect (27.034701220281416, 0.0), (536.9652987797186, 321.0)]\">\n",
       "        <g transform=\"translate(27.034701220281416 0.0 ) \">\n",
       "          <g>\n",
       "            <g>\n",
       "              <rect x=\"497.8642987621624\" y=\"15.285714285714278\" height=\"305.7142857142857\" width=\"14.693486436659953\" stroke=\"rgb(255,255,255)\" stroke-opacity=\"1.0\" fill=\"rgb(17,142,216)\" fill-opacity=\"1.0\" stroke-width=\"1.6500000000000001\">\n",
       "              </rect>\n",
       "              <rect x=\"481.53820272142906\" y=\"15.285714285714278\" height=\"305.7142857142857\" width=\"14.693486436659953\" stroke=\"rgb(255,255,255)\" stroke-opacity=\"1.0\" fill=\"rgb(17,142,216)\" fill-opacity=\"1.0\" stroke-width=\"1.6500000000000001\">\n",
       "              </rect>\n",
       "              <rect x=\"465.21210668069574\" y=\"15.285714285714278\" height=\"305.7142857142857\" width=\"14.693486436659953\" stroke=\"rgb(255,255,255)\" stroke-opacity=\"1.0\" fill=\"rgb(17,142,216)\" fill-opacity=\"1.0\" stroke-width=\"1.6500000000000001\">\n",
       "              </rect>\n",
       "              <rect x=\"448.8860106399624\" y=\"15.285714285714278\" height=\"305.7142857142857\" width=\"14.693486436659953\" stroke=\"rgb(255,255,255)\" stroke-opacity=\"1.0\" fill=\"rgb(17,142,216)\" fill-opacity=\"1.0\" stroke-width=\"1.6500000000000001\">\n",
       "              </rect>\n",
       "              <rect x=\"432.5599145992291\" y=\"15.285714285714278\" height=\"305.7142857142857\" width=\"14.693486436659953\" stroke=\"rgb(255,255,255)\" stroke-opacity=\"1.0\" fill=\"rgb(17,142,216)\" fill-opacity=\"1.0\" stroke-width=\"1.6500000000000001\">\n",
       "              </rect>\n",
       "              <rect x=\"416.2338185584958\" y=\"15.285714285714278\" height=\"305.7142857142857\" width=\"14.69348643666001\" stroke=\"rgb(255,255,255)\" stroke-opacity=\"1.0\" fill=\"rgb(17,142,216)\" fill-opacity=\"1.0\" stroke-width=\"1.6500000000000001\">\n",
       "              </rect>\n",
       "              <rect x=\"399.9077225177625\" y=\"15.285714285714278\" height=\"305.7142857142857\" width=\"14.693486436659953\" stroke=\"rgb(255,255,255)\" stroke-opacity=\"1.0\" fill=\"rgb(17,142,216)\" fill-opacity=\"1.0\" stroke-width=\"1.6500000000000001\">\n",
       "              </rect>\n",
       "              <rect x=\"383.5816264770292\" y=\"15.285714285714278\" height=\"305.7142857142857\" width=\"14.693486436659953\" stroke=\"rgb(255,255,255)\" stroke-opacity=\"1.0\" fill=\"rgb(17,142,216)\" fill-opacity=\"1.0\" stroke-width=\"1.6500000000000001\">\n",
       "              </rect>\n",
       "              <rect x=\"367.2555304362959\" y=\"15.285714285714278\" height=\"305.7142857142857\" width=\"14.693486436659953\" stroke=\"rgb(255,255,255)\" stroke-opacity=\"1.0\" fill=\"rgb(17,142,216)\" fill-opacity=\"1.0\" stroke-width=\"1.6500000000000001\">\n",
       "              </rect>\n",
       "              <rect x=\"350.92943439556257\" y=\"15.285714285714278\" height=\"305.7142857142857\" width=\"14.693486436659953\" stroke=\"rgb(255,255,255)\" stroke-opacity=\"1.0\" fill=\"rgb(17,142,216)\" fill-opacity=\"1.0\" stroke-width=\"1.6500000000000001\">\n",
       "              </rect>\n",
       "              <rect x=\"334.60333835482925\" y=\"15.285714285714278\" height=\"305.7142857142857\" width=\"14.693486436659953\" stroke=\"rgb(255,255,255)\" stroke-opacity=\"1.0\" fill=\"rgb(17,142,216)\" fill-opacity=\"1.0\" stroke-width=\"1.6500000000000001\">\n",
       "              </rect>\n",
       "              <rect x=\"318.27724231409593\" y=\"15.285714285714278\" height=\"305.7142857142857\" width=\"14.693486436659953\" stroke=\"rgb(255,255,255)\" stroke-opacity=\"1.0\" fill=\"rgb(17,142,216)\" fill-opacity=\"1.0\" stroke-width=\"1.6500000000000001\">\n",
       "              </rect>\n",
       "              <rect x=\"301.9511462733626\" y=\"15.285714285714278\" height=\"305.7142857142857\" width=\"14.693486436659953\" stroke=\"rgb(255,255,255)\" stroke-opacity=\"1.0\" fill=\"rgb(17,142,216)\" fill-opacity=\"1.0\" stroke-width=\"1.6500000000000001\">\n",
       "              </rect>\n",
       "              <rect x=\"285.6250502326293\" y=\"15.285714285714278\" height=\"305.7142857142857\" width=\"14.69348643666001\" stroke=\"rgb(255,255,255)\" stroke-opacity=\"1.0\" fill=\"rgb(17,142,216)\" fill-opacity=\"1.0\" stroke-width=\"1.6500000000000001\">\n",
       "              </rect>\n",
       "              <rect x=\"269.298954191896\" y=\"15.285714285714278\" height=\"305.7142857142857\" width=\"14.69348643666001\" stroke=\"rgb(255,255,255)\" stroke-opacity=\"1.0\" fill=\"rgb(17,142,216)\" fill-opacity=\"1.0\" stroke-width=\"1.6500000000000001\">\n",
       "              </rect>\n",
       "              <rect x=\"252.97285815116265\" y=\"15.285714285714278\" height=\"305.7142857142857\" width=\"14.69348643666001\" stroke=\"rgb(255,255,255)\" stroke-opacity=\"1.0\" fill=\"rgb(17,142,216)\" fill-opacity=\"1.0\" stroke-width=\"1.6500000000000001\">\n",
       "              </rect>\n",
       "              <rect x=\"236.64676211042936\" y=\"15.285714285714278\" height=\"305.7142857142857\" width=\"14.693486436659981\" stroke=\"rgb(255,255,255)\" stroke-opacity=\"1.0\" fill=\"rgb(17,142,216)\" fill-opacity=\"1.0\" stroke-width=\"1.6500000000000001\">\n",
       "              </rect>\n",
       "              <rect x=\"220.32066606969605\" y=\"15.285714285714278\" height=\"305.7142857142857\" width=\"14.693486436659981\" stroke=\"rgb(255,255,255)\" stroke-opacity=\"1.0\" fill=\"rgb(17,142,216)\" fill-opacity=\"1.0\" stroke-width=\"1.6500000000000001\">\n",
       "              </rect>\n",
       "              <rect x=\"203.99457002896273\" y=\"15.285714285714278\" height=\"305.7142857142857\" width=\"14.693486436659981\" stroke=\"rgb(255,255,255)\" stroke-opacity=\"1.0\" fill=\"rgb(17,142,216)\" fill-opacity=\"1.0\" stroke-width=\"1.6500000000000001\">\n",
       "              </rect>\n",
       "              <rect x=\"187.6684739882294\" y=\"15.285714285714278\" height=\"305.7142857142857\" width=\"14.69348643666001\" stroke=\"rgb(255,255,255)\" stroke-opacity=\"1.0\" fill=\"rgb(17,142,216)\" fill-opacity=\"1.0\" stroke-width=\"1.6500000000000001\">\n",
       "              </rect>\n",
       "              <rect x=\"171.34237794749612\" y=\"15.285714285714278\" height=\"305.7142857142857\" width=\"14.693486436659981\" stroke=\"rgb(255,255,255)\" stroke-opacity=\"1.0\" fill=\"rgb(17,142,216)\" fill-opacity=\"1.0\" stroke-width=\"1.6500000000000001\">\n",
       "              </rect>\n",
       "              <rect x=\"155.0162819067628\" y=\"15.285714285714278\" height=\"305.7142857142857\" width=\"14.693486436659953\" stroke=\"rgb(255,255,255)\" stroke-opacity=\"1.0\" fill=\"rgb(17,142,216)\" fill-opacity=\"1.0\" stroke-width=\"1.6500000000000001\">\n",
       "              </rect>\n",
       "              <rect x=\"138.69018586602948\" y=\"15.285714285714278\" height=\"305.7142857142857\" width=\"14.693486436659981\" stroke=\"rgb(255,255,255)\" stroke-opacity=\"1.0\" fill=\"rgb(17,142,216)\" fill-opacity=\"1.0\" stroke-width=\"1.6500000000000001\">\n",
       "              </rect>\n",
       "              <rect x=\"122.36408982529616\" y=\"15.285714285714278\" height=\"305.7142857142857\" width=\"14.693486436659981\" stroke=\"rgb(255,255,255)\" stroke-opacity=\"1.0\" fill=\"rgb(17,142,216)\" fill-opacity=\"1.0\" stroke-width=\"1.6500000000000001\">\n",
       "              </rect>\n",
       "              <rect x=\"106.03799378456284\" y=\"15.285714285714278\" height=\"305.7142857142857\" width=\"14.69348643666001\" stroke=\"rgb(255,255,255)\" stroke-opacity=\"1.0\" fill=\"rgb(17,142,216)\" fill-opacity=\"1.0\" stroke-width=\"1.6500000000000001\">\n",
       "              </rect>\n",
       "              <rect x=\"89.71189774382955\" y=\"15.285714285714278\" height=\"305.7142857142857\" width=\"14.693486436659981\" stroke=\"rgb(255,255,255)\" stroke-opacity=\"1.0\" fill=\"rgb(17,142,216)\" fill-opacity=\"1.0\" stroke-width=\"1.6500000000000001\">\n",
       "              </rect>\n",
       "              <rect x=\"73.38580170309623\" y=\"15.285714285714278\" height=\"305.7142857142857\" width=\"14.693486436659981\" stroke=\"rgb(255,255,255)\" stroke-opacity=\"1.0\" fill=\"rgb(17,142,216)\" fill-opacity=\"1.0\" stroke-width=\"1.6500000000000001\">\n",
       "              </rect>\n",
       "              <rect x=\"57.05970566236292\" y=\"15.285714285714278\" height=\"305.7142857142857\" width=\"14.693486436659974\" stroke=\"rgb(255,255,255)\" stroke-opacity=\"1.0\" fill=\"rgb(17,142,216)\" fill-opacity=\"1.0\" stroke-width=\"1.6500000000000001\">\n",
       "              </rect>\n",
       "              <rect x=\"40.73360962162961\" y=\"15.285714285714278\" height=\"305.7142857142857\" width=\"14.693486436659981\" stroke=\"rgb(255,255,255)\" stroke-opacity=\"1.0\" fill=\"rgb(17,142,216)\" fill-opacity=\"1.0\" stroke-width=\"1.6500000000000001\">\n",
       "              </rect>\n",
       "              <rect x=\"24.4075135808963\" y=\"15.285714285714278\" height=\"305.7142857142857\" width=\"14.693486436659981\" stroke=\"rgb(255,255,255)\" stroke-opacity=\"1.0\" fill=\"rgb(17,142,216)\" fill-opacity=\"1.0\" stroke-width=\"1.6500000000000001\">\n",
       "              </rect>\n",
       "            </g>\n",
       "          </g>\n",
       "        </g>\n",
       "        <defs>\n",
       "          <clipPath id=\"cObAWTU\">\n",
       "            <rect x=\"27.034701220281416\" y=\"0.0\" width=\"536.9652987797186\" height=\"321.0\">\n",
       "            </rect>\n",
       "          </clipPath>\n",
       "        </defs>\n",
       "      </g>\n",
       "      <g>\n",
       "        <g transform=\"translate(27.034701220281416 321.0 ) \">\n",
       "          <g transform=\"translate(31.75425679922629 0.0 ) \">\n",
       "            <line stroke-width=\"1.0\" stroke=\"rgb(71,71,71)\" stroke-opacity=\"1.0\" x2=\"0.0\" y2=\"4.0\">\n",
       "            </line>\n",
       "            <g transform=\"translate(0.0 7.0 ) \">\n",
       "              <text class=\"axis-text-x\" text-anchor=\"middle\" dy=\"0.7em\">\n",
       "                <tspan>0</tspan>\n",
       "              </text>\n",
       "            </g>\n",
       "          </g>\n",
       "          <g transform=\"translate(113.38473700289285 0.0 ) \">\n",
       "            <line stroke-width=\"1.0\" stroke=\"rgb(71,71,71)\" stroke-opacity=\"1.0\" x2=\"0.0\" y2=\"4.0\">\n",
       "            </line>\n",
       "            <g transform=\"translate(0.0 7.0 ) \">\n",
       "              <text class=\"axis-text-x\" text-anchor=\"middle\" dy=\"0.7em\">\n",
       "                <tspan>5</tspan>\n",
       "              </text>\n",
       "            </g>\n",
       "          </g>\n",
       "          <g transform=\"translate(195.0152172065594 0.0 ) \">\n",
       "            <line stroke-width=\"1.0\" stroke=\"rgb(71,71,71)\" stroke-opacity=\"1.0\" x2=\"0.0\" y2=\"4.0\">\n",
       "            </line>\n",
       "            <g transform=\"translate(0.0 7.0 ) \">\n",
       "              <text class=\"axis-text-x\" text-anchor=\"middle\" dy=\"0.7em\">\n",
       "                <tspan>10</tspan>\n",
       "              </text>\n",
       "            </g>\n",
       "          </g>\n",
       "          <g transform=\"translate(276.645697410226 0.0 ) \">\n",
       "            <line stroke-width=\"1.0\" stroke=\"rgb(71,71,71)\" stroke-opacity=\"1.0\" x2=\"0.0\" y2=\"4.0\">\n",
       "            </line>\n",
       "            <g transform=\"translate(0.0 7.0 ) \">\n",
       "              <text class=\"axis-text-x\" text-anchor=\"middle\" dy=\"0.7em\">\n",
       "                <tspan>15</tspan>\n",
       "              </text>\n",
       "            </g>\n",
       "          </g>\n",
       "          <g transform=\"translate(358.27617761389257 0.0 ) \">\n",
       "            <line stroke-width=\"1.0\" stroke=\"rgb(71,71,71)\" stroke-opacity=\"1.0\" x2=\"0.0\" y2=\"4.0\">\n",
       "            </line>\n",
       "            <g transform=\"translate(0.0 7.0 ) \">\n",
       "              <text class=\"axis-text-x\" text-anchor=\"middle\" dy=\"0.7em\">\n",
       "                <tspan>20</tspan>\n",
       "              </text>\n",
       "            </g>\n",
       "          </g>\n",
       "          <g transform=\"translate(439.9066578175591 0.0 ) \">\n",
       "            <line stroke-width=\"1.0\" stroke=\"rgb(71,71,71)\" stroke-opacity=\"1.0\" x2=\"0.0\" y2=\"4.0\">\n",
       "            </line>\n",
       "            <g transform=\"translate(0.0 7.0 ) \">\n",
       "              <text class=\"axis-text-x\" text-anchor=\"middle\" dy=\"0.7em\">\n",
       "                <tspan>25</tspan>\n",
       "              </text>\n",
       "            </g>\n",
       "          </g>\n",
       "          <g transform=\"translate(521.5371380212256 0.0 ) \">\n",
       "            <line stroke-width=\"1.0\" stroke=\"rgb(71,71,71)\" stroke-opacity=\"1.0\" x2=\"0.0\" y2=\"4.0\">\n",
       "            </line>\n",
       "            <g transform=\"translate(0.0 7.0 ) \">\n",
       "              <text class=\"axis-text-x\" text-anchor=\"middle\" dy=\"0.7em\">\n",
       "                <tspan>30</tspan>\n",
       "              </text>\n",
       "            </g>\n",
       "          </g>\n",
       "          <line x1=\"0.0\" y1=\"0.0\" x2=\"536.9652987797186\" y2=\"0.0\" stroke-width=\"1.0\" stroke=\"rgb(71,71,71)\" stroke-opacity=\"1.0\">\n",
       "          </line>\n",
       "        </g>\n",
       "        <g transform=\"translate(27.034701220281416 0.0 ) \">\n",
       "          <g transform=\"translate(0.0 321.0 ) \">\n",
       "            <g transform=\"translate(-3.0 0.0 ) \">\n",
       "              <text class=\"axis-text-y\" text-anchor=\"end\" dy=\"0.35em\">\n",
       "                <tspan>0.0</tspan>\n",
       "              </text>\n",
       "            </g>\n",
       "          </g>\n",
       "          <g transform=\"translate(0.0 282.7857142857143 ) \">\n",
       "            <g transform=\"translate(-3.0 0.0 ) \">\n",
       "              <text class=\"axis-text-y\" text-anchor=\"end\" dy=\"0.35em\">\n",
       "                <tspan>0.5</tspan>\n",
       "              </text>\n",
       "            </g>\n",
       "          </g>\n",
       "          <g transform=\"translate(0.0 244.57142857142856 ) \">\n",
       "            <g transform=\"translate(-3.0 0.0 ) \">\n",
       "              <text class=\"axis-text-y\" text-anchor=\"end\" dy=\"0.35em\">\n",
       "                <tspan>1.0</tspan>\n",
       "              </text>\n",
       "            </g>\n",
       "          </g>\n",
       "          <g transform=\"translate(0.0 206.35714285714286 ) \">\n",
       "            <g transform=\"translate(-3.0 0.0 ) \">\n",
       "              <text class=\"axis-text-y\" text-anchor=\"end\" dy=\"0.35em\">\n",
       "                <tspan>1.5</tspan>\n",
       "              </text>\n",
       "            </g>\n",
       "          </g>\n",
       "          <g transform=\"translate(0.0 168.14285714285714 ) \">\n",
       "            <g transform=\"translate(-3.0 0.0 ) \">\n",
       "              <text class=\"axis-text-y\" text-anchor=\"end\" dy=\"0.35em\">\n",
       "                <tspan>2.0</tspan>\n",
       "              </text>\n",
       "            </g>\n",
       "          </g>\n",
       "          <g transform=\"translate(0.0 129.92857142857142 ) \">\n",
       "            <g transform=\"translate(-3.0 0.0 ) \">\n",
       "              <text class=\"axis-text-y\" text-anchor=\"end\" dy=\"0.35em\">\n",
       "                <tspan>2.5</tspan>\n",
       "              </text>\n",
       "            </g>\n",
       "          </g>\n",
       "          <g transform=\"translate(0.0 91.71428571428572 ) \">\n",
       "            <g transform=\"translate(-3.0 0.0 ) \">\n",
       "              <text class=\"axis-text-y\" text-anchor=\"end\" dy=\"0.35em\">\n",
       "                <tspan>3.0</tspan>\n",
       "              </text>\n",
       "            </g>\n",
       "          </g>\n",
       "          <g transform=\"translate(0.0 53.5 ) \">\n",
       "            <g transform=\"translate(-3.0 0.0 ) \">\n",
       "              <text class=\"axis-text-y\" text-anchor=\"end\" dy=\"0.35em\">\n",
       "                <tspan>3.5</tspan>\n",
       "              </text>\n",
       "            </g>\n",
       "          </g>\n",
       "          <g transform=\"translate(0.0 15.285714285714278 ) \">\n",
       "            <g transform=\"translate(-3.0 0.0 ) \">\n",
       "              <text class=\"axis-text-y\" text-anchor=\"end\" dy=\"0.35em\">\n",
       "                <tspan>4.0</tspan>\n",
       "              </text>\n",
       "            </g>\n",
       "          </g>\n",
       "        </g>\n",
       "      </g>\n",
       "    </g>\n",
       "    <g transform=\"translate(56.53470122028142 16.8 ) \">\n",
       "      <text class=\"plot-title\" y=\"0.0\">\n",
       "        <tspan>Events per room</tspan>\n",
       "      </text>\n",
       "    </g>\n",
       "    <g transform=\"translate(16.0 187.0 ) rotate(-90.0 ) \">\n",
       "      <text class=\"axis-title-y\" y=\"0.0\" text-anchor=\"middle\">\n",
       "        <tspan>Lessons</tspan>\n",
       "      </text>\n",
       "    </g>\n",
       "    <g transform=\"translate(325.01735061014074 393.0 ) \">\n",
       "      <text class=\"axis-title-x\" y=\"0.0\" text-anchor=\"middle\">\n",
       "        <tspan>Timeslots</tspan>\n",
       "      </text>\n",
       "    </g>\n",
       "    <path fill=\"rgb(0,0,0)\" fill-opacity=\"0.0\" stroke=\"rgb(71,71,71)\" stroke-opacity=\"1.0\" stroke-width=\"0.0\" d=\"M0.0 0.0 L0.0 400.0 L600.0 400.0 L600.0 0.0 Z\">\n",
       "    </path>\n",
       "  </g>\n",
       "  <g id=\"dt9zffM\">\n",
       "  </g>\n",
       "</svg>\n",
       "        <script>document.getElementById(\"0ede9d72-e12c-497e-91b2-a5f6305b0139\").style.display = \"none\";</script>"
      ],
      "application/plot+json": {
       "output_type": "lets_plot_spec",
       "output": {
        "ggtitle": {
         "text": "Events per room"
        },
        "mapping": {},
        "data": {},
        "kind": "plot",
        "scales": [
         {
          "aesthetic": "x",
          "name": "Timeslots",
          "limits": [
           null,
           null
          ]
         },
         {
          "aesthetic": "y",
          "name": "Lessons",
          "limits": [
           null,
           null
          ]
         }
        ],
        "layers": [
         {
          "mapping": {
           "x": "x",
           "y": "y"
          },
          "stat": "identity",
          "data": {
           "x": [
            0.0,
            1.0,
            2.0,
            3.0,
            4.0,
            5.0,
            6.0,
            7.0,
            8.0,
            9.0,
            10.0,
            11.0,
            12.0,
            13.0,
            14.0,
            15.0,
            16.0,
            17.0,
            18.0,
            19.0,
            20.0,
            21.0,
            22.0,
            23.0,
            24.0,
            25.0,
            26.0,
            27.0,
            28.0,
            29.0
           ],
           "y": [
            4.0,
            4.0,
            4.0,
            4.0,
            4.0,
            4.0,
            4.0,
            4.0,
            4.0,
            4.0,
            4.0,
            4.0,
            4.0,
            4.0,
            4.0,
            4.0,
            4.0,
            4.0,
            4.0,
            4.0,
            4.0,
            4.0,
            4.0,
            4.0,
            4.0,
            4.0,
            4.0,
            4.0,
            4.0,
            4.0
           ]
          },
          "sampling": "none",
          "position": "dodge",
          "geom": "bar"
         }
        ]
       },
       "apply_color_scheme": true,
       "swing_enabled": true
      }
     },
     "execution_count": 121,
     "metadata": {},
     "output_type": "execute_result"
    }
   ],
   "execution_count": 121
  },
  {
   "metadata": {},
   "cell_type": "markdown",
   "source": "This diagram is a bit silly ofcourse, since all lessons are always assigned."
  },
  {
   "metadata": {},
   "cell_type": "markdown",
   "source": [
    "## Analyze the score\n",
    "\n",
    "Let's break down the score per constraint:"
   ]
  },
  {
   "metadata": {
    "ExecuteTime": {
     "end_time": "2024-12-05T09:16:28.302599Z",
     "start_time": "2024-12-05T09:16:28.258294Z"
    }
   },
   "cell_type": "code",
   "source": [
    "import ai.timefold.solver.core.api.solver.SolutionManager\n",
    "\n",
    "val solutionManager = SolutionManager.create(solverFactory)\n",
    "val scoreAnalysis = solutionManager.analyze(solution)"
   ],
   "outputs": [],
   "execution_count": 122
  },
  {
   "metadata": {},
   "cell_type": "markdown",
   "source": "And visualize it:"
  },
  {
   "metadata": {
    "ExecuteTime": {
     "end_time": "2024-12-05T09:16:28.372796Z",
     "start_time": "2024-12-05T09:16:28.309446Z"
    }
   },
   "cell_type": "code",
   "source": [
    "HTML(buildString {\n",
    "    append(\"<p style='font-size: x-large'>Score: ${scoreAnalysis.score}</p>\")\n",
    "    append(\"<ul>\")\n",
    "    for (constraint in scoreAnalysis.constraintMap().values) {\n",
    "        append(\"<li>${constraint.constraintRef().constraintName}: ${constraint.score.toShortString()}</li>\")\n",
    "    }\n",
    "    append(\"</ul>\")\n",
    "})"
   ],
   "outputs": [
    {
     "data": {
      "text/html": [
       "<p style='font-size: x-large'>Score: 0hard/0soft</p><ul><li>Class group conflict: 0</li><li>Room conflict: 0</li><li>Teacher conflict: 0</li></ul>"
      ]
     },
     "execution_count": 123,
     "metadata": {},
     "output_type": "execute_result"
    }
   ],
   "execution_count": 123
  },
  {
   "cell_type": "markdown",
   "source": [
    "## Notice\n",
    "\n",
    "This code isn't optimized for benchmarking or scaling.\n",
    "\n",
    "To learn more about planning optimization, visit [docs.timefold.ai](https://docs.timefold.ai)."
   ],
   "metadata": {
    "collapsed": false
   }
  }
 ],
 "metadata": {
  "kernelspec": {
   "display_name": "Kotlin",
   "language": "kotlin",
   "name": "kotlin"
  },
  "language_info": {
   "name": "kotlin",
   "version": "1.9.0",
   "mimetype": "text/x-kotlin",
   "file_extension": ".kt",
   "pygments_lexer": "kotlin",
   "codemirror_mode": "text/x-kotlin",
   "nbconvert_exporter": ""
  }
 },
 "nbformat": 4,
 "nbformat_minor": 0
}
