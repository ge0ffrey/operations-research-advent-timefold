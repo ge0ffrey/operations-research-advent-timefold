{
 "cells": [
  {
   "metadata": {},
   "cell_type": "markdown",
   "source": [
    "# OR Advent 2024 December 3: task assigning (Python)\n",
    "\n",
    "## Assignment\n",
    "\n",
    "Hey, ORville here\n",
    "\n",
    "I'm a logistics manager overseeing the allocation of tasks to employees in our company, FurnitORe.\n",
    "\n",
    "Right now we have 100 tasks that need to be completed, and we also have 100 employees available to handle them.\n",
    "\n",
    "The catch is that assigning a task to an employee has a cost.\n",
    "\n",
    "These costs vary depending on the difficulty of the task, the expertise of the employee, and other factors.\n",
    "\n",
    "I need your help to figure out the most cost-effective way to assign these tasks to employees.\n",
    "\n",
    "You can assume that each task is done by just one employee, and one employee is assigned to just one task.\n",
    "\n",
    "Can you help me solve this problem?\n",
    "\n",
    "## Notes\n",
    "\n",
    "**This implementation requires Python 3.12, not 3.13.**\n",
    "\n",
    "## Dependencies\n",
    "\n",
    "This Jupyter Notebook solves an OR Advent problem with [Timefold Solver](https://timefold.ai/open-source-solver), the open source planning solver AI. We add it as a dependency:"
   ],
   "id": "6dec503fd3832d94"
  },
  {
   "metadata": {
    "ExecuteTime": {
     "end_time": "2024-12-03T19:16:29.376498Z",
     "start_time": "2024-12-03T19:16:28.831848Z"
    }
   },
   "cell_type": "code",
   "source": "pip install timefold==1.16.0b0",
   "id": "cba987b8c96efaf9",
   "outputs": [
    {
     "name": "stdout",
     "output_type": "stream",
     "text": [
      "Requirement already satisfied: timefold==1.16.0b0 in /Users/geoffreydesmet/projects/demo/timefold-notebooks/python/.venv/lib/python3.12/site-packages (1.16.0b0)\r\n",
      "Requirement already satisfied: JPype1>=1.5.0 in /Users/geoffreydesmet/projects/demo/timefold-notebooks/python/.venv/lib/python3.12/site-packages (from timefold==1.16.0b0) (1.5.0)\r\n",
      "Requirement already satisfied: packaging in /Users/geoffreydesmet/projects/demo/timefold-notebooks/python/.venv/lib/python3.12/site-packages (from JPype1>=1.5.0->timefold==1.16.0b0) (24.1)\r\n",
      "\r\n",
      "\u001B[1m[\u001B[0m\u001B[34;49mnotice\u001B[0m\u001B[1;39;49m]\u001B[0m\u001B[39;49m A new release of pip is available: \u001B[0m\u001B[31;49m23.2.1\u001B[0m\u001B[39;49m -> \u001B[0m\u001B[32;49m24.3.1\u001B[0m\r\n",
      "\u001B[1m[\u001B[0m\u001B[34;49mnotice\u001B[0m\u001B[1;39;49m]\u001B[0m\u001B[39;49m To update, run: \u001B[0m\u001B[32;49mpip install --upgrade pip\u001B[0m\r\n",
      "Note: you may need to restart the kernel to use updated packages.\n"
     ]
    }
   ],
   "execution_count": 1
  },
  {
   "metadata": {},
   "cell_type": "markdown",
   "source": [
    "\n",
    "## Domain\n",
    "\n",
    "We need to assign tasks to employees:"
   ],
   "id": "f7db1507e84978a4"
  },
  {
   "metadata": {
    "ExecuteTime": {
     "end_time": "2024-12-03T19:16:29.380351Z",
     "start_time": "2024-12-03T19:16:29.377850Z"
    }
   },
   "cell_type": "code",
   "source": [
    "from dataclasses import dataclass\n",
    "\n",
    "@dataclass\n",
    "class Employee:\n",
    "    id: int"
   ],
   "id": "757137072877cecd",
   "outputs": [],
   "execution_count": 2
  },
  {
   "metadata": {},
   "cell_type": "markdown",
   "source": "This class changes during planning. Timefold Solver fills in the `@PlanningVariable` annotated fields for all instances:",
   "id": "aecc532d51aa902b"
  },
  {
   "metadata": {
    "ExecuteTime": {
     "end_time": "2024-12-03T19:16:51.495670Z",
     "start_time": "2024-12-03T19:16:51.471513Z"
    }
   },
   "cell_type": "code",
   "source": [
    "from timefold.solver.domain import (planning_entity, PlanningVariable, PlanningId)\n",
    "from dataclasses import dataclass, field\n",
    "from typing import (Annotated, Dict)\n",
    "\n",
    "@planning_entity\n",
    "@dataclass\n",
    "class Task:\n",
    "    id: Annotated[int, PlanningId]\n",
    "    employee_cost_map: Dict[int, int] = field(default_factory=dict)\n",
    "    employee: Annotated[Employee | None, PlanningVariable] = field(default=None)\n",
    "\n",
    "\n",
    "    def calc_cost(self) -> int:\n",
    "        if self.employee is None:\n",
    "            return 0\n",
    "        return self.employee_cost_map.get(self.employee.id)"
   ],
   "id": "e0b7bdd54c095a8d",
   "outputs": [],
   "execution_count": 6
  },
  {
   "metadata": {},
   "cell_type": "markdown",
   "source": [
    "## Constraints\n",
    "\n",
    "The solver takes into account hard and soft constraints:"
   ],
   "id": "5de0f51c16a9a40d"
  },
  {
   "metadata": {
    "ExecuteTime": {
     "end_time": "2024-12-03T19:17:02.993388Z",
     "start_time": "2024-12-03T19:17:02.498868Z"
    }
   },
   "cell_type": "code",
   "source": [
    "from timefold.solver.score import (constraint_provider, HardSoftScore, Joiners,\n",
    "                                   ConstraintFactory, Constraint)\n",
    "\n",
    "@constraint_provider\n",
    "def define_constraints(constraint_factory: ConstraintFactory):\n",
    "    return [\n",
    "        # Hard constraints\n",
    "        employee_conflict(constraint_factory),\n",
    "        # Soft constraints\n",
    "        minimize_cost(constraint_factory),\n",
    "    ]\n",
    "\n",
    "\n",
    "def employee_conflict(constraint_factory: ConstraintFactory) -> Constraint:\n",
    "    return (constraint_factory\n",
    "            .for_each_unique_pair(Task,\n",
    "                                  Joiners.equal(lambda task: task.employee))\n",
    "            .penalize(HardSoftScore.ONE_HARD)\n",
    "            .as_constraint(\"Employee conflict\"))\n",
    "\n",
    "\n",
    "def minimize_cost(constraint_factory: ConstraintFactory) -> Constraint:\n",
    "    return (constraint_factory\n",
    "            .for_each(Task)\n",
    "            .penalize(HardSoftScore.ONE_SOFT, lambda task: task.calc_cost)\n",
    "            .as_constraint(\"Minimize cost\"))\n"
   ],
   "id": "fed72b2424334a18",
   "outputs": [],
   "execution_count": 8
  },
  {
   "metadata": {},
   "cell_type": "markdown",
   "source": [
    "### The dataset class\n",
    "\n",
    "This class represents the dataset to solve:"
   ],
   "id": "824dc3b974444a79"
  },
  {
   "metadata": {
    "ExecuteTime": {
     "end_time": "2024-12-03T19:17:09.996263Z",
     "start_time": "2024-12-03T19:17:09.989651Z"
    }
   },
   "cell_type": "code",
   "source": [
    "from timefold.solver.domain import (planning_solution, \n",
    "                                    PlanningEntityCollectionProperty,\n",
    "                                    ValueRangeProvider,\n",
    "                                    PlanningScore)\n",
    "from timefold.solver.score import HardSoftScore\n",
    "from dataclasses import dataclass, field\n",
    "from typing import Annotated\n",
    "\n",
    "@planning_solution\n",
    "@dataclass\n",
    "class OrAdventDataset:\n",
    "    employees: Annotated[list[Employee], ValueRangeProvider]\n",
    "    tasks: Annotated[list[Task],  PlanningEntityCollectionProperty]\n",
    "    score: Annotated[HardSoftScore, PlanningScore] = field(default=None)"
   ],
   "id": "f62624e265cbf78a",
   "outputs": [],
   "execution_count": 9
  },
  {
   "metadata": {},
   "cell_type": "markdown",
   "source": "## Input reader",
   "id": "11a5e12693108afc"
  },
  {
   "metadata": {
    "ExecuteTime": {
     "end_time": "2024-12-03T19:17:14.171895Z",
     "start_time": "2024-12-03T19:17:14.168523Z"
    }
   },
   "cell_type": "code",
   "source": [
    "def read_dataset() -> OrAdventDataset:\n",
    "    \n",
    "    with open(\"./instance.txt\", 'r') as file:\n",
    "        lines = file.readlines()\n",
    "        \n",
    "    data_lines = [line.strip() for line in lines if not line.startswith('#') and line.strip()]\n",
    "\n",
    "    number_of_tasks = int(data_lines[0])\n",
    "    employees = [Employee(id=i) for i in range(0, number_of_tasks)]\n",
    "\n",
    "    tasks = []\n",
    "    for task_id, line in enumerate(data_lines[1:]):\n",
    "        employee_costs = list(map(int, line.split()))\n",
    "        employee_cost_map = {employee_id: cost for employee_id, cost in enumerate(employee_costs)}\n",
    "        tasks.append(Task(id=task_id, employee_cost_map=employee_cost_map))\n",
    "\n",
    "    return OrAdventDataset(employees, tasks)"
   ],
   "id": "f12e88884314eab9",
   "outputs": [],
   "execution_count": 10
  },
  {
   "metadata": {},
   "cell_type": "markdown",
   "source": [
    "## Solve it\n",
    "\n",
    "Configure and run the solver:"
   ],
   "id": "59d1a178f2e52c55"
  },
  {
   "metadata": {
    "ExecuteTime": {
     "end_time": "2024-12-03T19:17:20.244140Z",
     "start_time": "2024-12-03T19:17:20.209657Z"
    }
   },
   "cell_type": "code",
   "source": [
    "from timefold.solver.config import (SolverConfig, ScoreDirectorFactoryConfig,\n",
    "                                    TerminationConfig, Duration)\n",
    "from timefold.solver import SolverFactory\n",
    "\n",
    "solver_factory = SolverFactory.create(\n",
    "    SolverConfig(\n",
    "        solution_class=OrAdventDataset,\n",
    "        entity_class_list=[Task],\n",
    "        score_director_factory_config=ScoreDirectorFactoryConfig(\n",
    "            constraint_provider_function=define_constraints\n",
    "        ),\n",
    "        termination_config=TerminationConfig(\n",
    "            unimproved_spent_limit=Duration(seconds=5)\n",
    "        )\n",
    "    ))\n",
    "\n",
    "problem = read_dataset()\n",
    "\n",
    "print(f'Solving the problem ...')\n",
    "solver = solver_factory.build_solver()\n",
    "solution = solver.solve(problem)\n",
    "print(f'Solving finished with score ({solution.score}).')"
   ],
   "id": "1ff2655f5e7cb952",
   "outputs": [
    {
     "ename": "ModuleNotFoundError",
     "evalue": "No module named 'java.io'",
     "output_type": "error",
     "traceback": [
      "\u001B[0;31m---------------------------------------------------------------------------\u001B[0m",
      "\u001B[0;31mModuleNotFoundError\u001B[0m                       Traceback (most recent call last)",
      "Cell \u001B[0;32mIn[11], line 5\u001B[0m\n\u001B[1;32m      1\u001B[0m \u001B[38;5;28;01mfrom\u001B[39;00m \u001B[38;5;21;01mtimefold\u001B[39;00m\u001B[38;5;21;01m.\u001B[39;00m\u001B[38;5;21;01msolver\u001B[39;00m\u001B[38;5;21;01m.\u001B[39;00m\u001B[38;5;21;01mconfig\u001B[39;00m \u001B[38;5;28;01mimport\u001B[39;00m (SolverConfig, ScoreDirectorFactoryConfig,\n\u001B[1;32m      2\u001B[0m                                     TerminationConfig, Duration)\n\u001B[1;32m      3\u001B[0m \u001B[38;5;28;01mfrom\u001B[39;00m \u001B[38;5;21;01mtimefold\u001B[39;00m\u001B[38;5;21;01m.\u001B[39;00m\u001B[38;5;21;01msolver\u001B[39;00m \u001B[38;5;28;01mimport\u001B[39;00m SolverFactory\n\u001B[0;32m----> 5\u001B[0m solver_factory \u001B[38;5;241m=\u001B[39m \u001B[43mSolverFactory\u001B[49m\u001B[38;5;241;43m.\u001B[39;49m\u001B[43mcreate\u001B[49m\u001B[43m(\u001B[49m\n\u001B[1;32m      6\u001B[0m \u001B[43m    \u001B[49m\u001B[43mSolverConfig\u001B[49m\u001B[43m(\u001B[49m\n\u001B[1;32m      7\u001B[0m \u001B[43m        \u001B[49m\u001B[43msolution_class\u001B[49m\u001B[38;5;241;43m=\u001B[39;49m\u001B[43mOrAdventDataset\u001B[49m\u001B[43m,\u001B[49m\n\u001B[1;32m      8\u001B[0m \u001B[43m        \u001B[49m\u001B[43mentity_class_list\u001B[49m\u001B[38;5;241;43m=\u001B[39;49m\u001B[43m[\u001B[49m\u001B[43mTask\u001B[49m\u001B[43m]\u001B[49m\u001B[43m,\u001B[49m\n\u001B[1;32m      9\u001B[0m \u001B[43m        \u001B[49m\u001B[43mscore_director_factory_config\u001B[49m\u001B[38;5;241;43m=\u001B[39;49m\u001B[43mScoreDirectorFactoryConfig\u001B[49m\u001B[43m(\u001B[49m\n\u001B[1;32m     10\u001B[0m \u001B[43m            \u001B[49m\u001B[43mconstraint_provider_function\u001B[49m\u001B[38;5;241;43m=\u001B[39;49m\u001B[43mdefine_constraints\u001B[49m\n\u001B[1;32m     11\u001B[0m \u001B[43m        \u001B[49m\u001B[43m)\u001B[49m\u001B[43m,\u001B[49m\n\u001B[1;32m     12\u001B[0m \u001B[43m        \u001B[49m\u001B[43mtermination_config\u001B[49m\u001B[38;5;241;43m=\u001B[39;49m\u001B[43mTerminationConfig\u001B[49m\u001B[43m(\u001B[49m\n\u001B[1;32m     13\u001B[0m \u001B[43m            \u001B[49m\u001B[43munimproved_spent_limit\u001B[49m\u001B[38;5;241;43m=\u001B[39;49m\u001B[43mDuration\u001B[49m\u001B[43m(\u001B[49m\u001B[43mseconds\u001B[49m\u001B[38;5;241;43m=\u001B[39;49m\u001B[38;5;241;43m5\u001B[39;49m\u001B[43m)\u001B[49m\n\u001B[1;32m     14\u001B[0m \u001B[43m        \u001B[49m\u001B[43m)\u001B[49m\n\u001B[1;32m     15\u001B[0m \u001B[43m    \u001B[49m\u001B[43m)\u001B[49m\u001B[43m)\u001B[49m\n\u001B[1;32m     17\u001B[0m problem \u001B[38;5;241m=\u001B[39m read_dataset()\n\u001B[1;32m     19\u001B[0m \u001B[38;5;28mprint\u001B[39m(\u001B[38;5;124mf\u001B[39m\u001B[38;5;124m'\u001B[39m\u001B[38;5;124mSolving the problem ...\u001B[39m\u001B[38;5;124m'\u001B[39m)\n",
      "File \u001B[0;32m~/projects/demo/timefold-notebooks/python/.venv/lib/python3.12/site-packages/timefold/solver/_solver_factory.py:51\u001B[0m, in \u001B[0;36mSolverFactory.create\u001B[0;34m(solver_config)\u001B[0m\n\u001B[1;32m     33\u001B[0m \u001B[38;5;250m\u001B[39m\u001B[38;5;124;03m\"\"\"\u001B[39;00m\n\u001B[1;32m     34\u001B[0m \u001B[38;5;124;03mUses a `SolverConfig` to build a `SolverFactory`.\u001B[39;00m\n\u001B[1;32m     35\u001B[0m \n\u001B[0;32m   (...)\u001B[0m\n\u001B[1;32m     48\u001B[0m \u001B[38;5;124;03mSubsequent changes to the config have no effect on the returned instance.\u001B[39;00m\n\u001B[1;32m     49\u001B[0m \u001B[38;5;124;03m\"\"\"\u001B[39;00m\n\u001B[1;32m     50\u001B[0m \u001B[38;5;28;01mfrom\u001B[39;00m \u001B[38;5;21;01mai\u001B[39;00m\u001B[38;5;21;01m.\u001B[39;00m\u001B[38;5;21;01mtimefold\u001B[39;00m\u001B[38;5;21;01m.\u001B[39;00m\u001B[38;5;21;01msolver\u001B[39;00m\u001B[38;5;21;01m.\u001B[39;00m\u001B[38;5;21;01mcore\u001B[39;00m\u001B[38;5;21;01m.\u001B[39;00m\u001B[38;5;21;01mapi\u001B[39;00m\u001B[38;5;21;01m.\u001B[39;00m\u001B[38;5;21;01msolver\u001B[39;00m \u001B[38;5;28;01mimport\u001B[39;00m SolverFactory \u001B[38;5;28;01mas\u001B[39;00m JavaSolverFactory\n\u001B[0;32m---> 51\u001B[0m solver_config \u001B[38;5;241m=\u001B[39m \u001B[43msolver_config\u001B[49m\u001B[38;5;241;43m.\u001B[39;49m\u001B[43m_to_java_solver_config\u001B[49m\u001B[43m(\u001B[49m\u001B[43m)\u001B[49m\n\u001B[1;32m     52\u001B[0m delegate \u001B[38;5;241m=\u001B[39m JavaSolverFactory\u001B[38;5;241m.\u001B[39mcreate(solver_config)  \u001B[38;5;66;03m# noqa\u001B[39;00m\n\u001B[1;32m     53\u001B[0m \u001B[38;5;28;01mreturn\u001B[39;00m SolverFactory(delegate, solver_config\u001B[38;5;241m.\u001B[39mgetSolutionClass())\n",
      "File \u001B[0;32m~/projects/demo/timefold-notebooks/python/.venv/lib/python3.12/site-packages/timefold/solver/config/_config.py:207\u001B[0m, in \u001B[0;36mSolverConfig._to_java_solver_config\u001B[0;34m(self)\u001B[0m\n\u001B[1;32m    205\u001B[0m \u001B[38;5;28;01mfrom\u001B[39;00m \u001B[38;5;21;01m.\u001B[39;00m\u001B[38;5;21;01m.\u001B[39;00m\u001B[38;5;21;01m_timefold_java_interop\u001B[39;00m \u001B[38;5;28;01mimport\u001B[39;00m OverrideClassLoader, get_class, _process_compilation_queue\n\u001B[1;32m    206\u001B[0m \u001B[38;5;28;01mfrom\u001B[39;00m \u001B[38;5;21;01mai\u001B[39;00m\u001B[38;5;21;01m.\u001B[39;00m\u001B[38;5;21;01mtimefold\u001B[39;00m\u001B[38;5;21;01m.\u001B[39;00m\u001B[38;5;21;01msolver\u001B[39;00m\u001B[38;5;21;01m.\u001B[39;00m\u001B[38;5;21;01mcore\u001B[39;00m\u001B[38;5;21;01m.\u001B[39;00m\u001B[38;5;21;01mconfig\u001B[39;00m\u001B[38;5;21;01m.\u001B[39;00m\u001B[38;5;21;01msolver\u001B[39;00m \u001B[38;5;28;01mimport\u001B[39;00m SolverConfig \u001B[38;5;28;01mas\u001B[39;00m JavaSolverConfig\n\u001B[0;32m--> 207\u001B[0m \u001B[38;5;28;01mfrom\u001B[39;00m \u001B[38;5;21;01mjava\u001B[39;00m\u001B[38;5;21;01m.\u001B[39;00m\u001B[38;5;21;01mio\u001B[39;00m \u001B[38;5;28;01mimport\u001B[39;00m File, ByteArrayInputStream  \u001B[38;5;66;03m# noqa\u001B[39;00m\n\u001B[1;32m    208\u001B[0m \u001B[38;5;28;01mfrom\u001B[39;00m \u001B[38;5;21;01mjava\u001B[39;00m\u001B[38;5;21;01m.\u001B[39;00m\u001B[38;5;21;01mlang\u001B[39;00m \u001B[38;5;28;01mimport\u001B[39;00m IllegalArgumentException\n\u001B[1;32m    209\u001B[0m \u001B[38;5;28;01mfrom\u001B[39;00m \u001B[38;5;21;01mjava\u001B[39;00m\u001B[38;5;21;01m.\u001B[39;00m\u001B[38;5;21;01mutil\u001B[39;00m \u001B[38;5;28;01mimport\u001B[39;00m ArrayList\n",
      "\u001B[0;31mModuleNotFoundError\u001B[0m: No module named 'java.io'"
     ]
    }
   ],
   "execution_count": 11
  },
  {
   "metadata": {},
   "cell_type": "markdown",
   "source": "## Visualize the schedule",
   "id": "1507377c5b4202eb"
  },
  {
   "metadata": {},
   "cell_type": "code",
   "source": "",
   "id": "c07ec007586d9b1f",
   "outputs": [],
   "execution_count": null
  },
  {
   "metadata": {},
   "cell_type": "markdown",
   "source": [
    "## Statistics\n",
    "\n",
    "For a big dataset, a schedule visualization is often too verbose.\n",
    "Let's visualize the solution through statistics:"
   ],
   "id": "af3104e744aaab5c"
  },
  {
   "metadata": {},
   "cell_type": "markdown",
   "source": [
    "## Analyze the score\n",
    "\n",
    "Let's break down the score per constraint:"
   ],
   "id": "2ef86c5b9b2f3d70"
  },
  {
   "metadata": {},
   "cell_type": "code",
   "source": [
    "from timefold.solver import SolutionManager\n",
    "\n",
    "solution_manager = SolutionManager.create(solver_factory)\n",
    "score_analysis = solution_manager.analyze(solution)"
   ],
   "id": "21360362608c6152",
   "outputs": [],
   "execution_count": null
  },
  {
   "metadata": {},
   "cell_type": "markdown",
   "source": "And visualize it:",
   "id": "2c9dd9ef8ac27fff"
  },
  {
   "metadata": {},
   "cell_type": "code",
   "source": [
    "from IPython.core.display import HTML\n",
    "\n",
    "html_content = f\"<p style='font-size: x-large'>Score: {score_analysis.score}</p>\"\n",
    "html_content += \"<ul>\"\n",
    "for constraint in score_analysis.constraint_map.values():\n",
    "    html_content += f\"<li>{constraint.constraint_name}: {constraint.score}</li>\"\n",
    "html_content += \"</ul>\"\n",
    "\n",
    "HTML(html_content)"
   ],
   "id": "cc07c2e07d3ba32",
   "outputs": [],
   "execution_count": null
  },
  {
   "metadata": {},
   "cell_type": "markdown",
   "source": [
    "## Notice\n",
    "\n",
    "This code isn't optimized for benchmarking or scaling.\n",
    "\n",
    "To learn more about planning optimization, visit [docs.timefold.ai](https://docs.timefold.ai)."
   ],
   "id": "ed22948f6b1cbd8c"
  }
 ],
 "metadata": {
  "kernelspec": {
   "display_name": "Python 3",
   "language": "python",
   "name": "python3"
  },
  "language_info": {
   "codemirror_mode": {
    "name": "ipython",
    "version": 2
   },
   "file_extension": ".py",
   "mimetype": "text/x-python",
   "name": "python",
   "nbconvert_exporter": "python",
   "pygments_lexer": "ipython2",
   "version": "2.7.6"
  }
 },
 "nbformat": 4,
 "nbformat_minor": 5
}
