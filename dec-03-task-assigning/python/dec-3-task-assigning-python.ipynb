{
 "cells": [
  {
   "metadata": {},
   "cell_type": "markdown",
   "source": [
    "# OR Advent 2024 December 3: task assigning (Python)\n",
    "\n",
    "## Assignment\n",
    "\n",
    "Hey, ORville here\n",
    "\n",
    "I'm a logistics manager overseeing the allocation of tasks to employees in our company, FurnitORe.\n",
    "\n",
    "Right now we have 100 tasks that need to be completed, and we also have 100 employees available to handle them.\n",
    "\n",
    "The catch is that assigning a task to an employee has a cost.\n",
    "\n",
    "These costs vary depending on the difficulty of the task, the expertise of the employee, and other factors.\n",
    "\n",
    "I need your help to figure out the most cost-effective way to assign these tasks to employees.\n",
    "\n",
    "You can assume that each task is done by just one employee, and one employee is assigned to just one task.\n",
    "\n",
    "Can you help me solve this problem?\n",
    "\n",
    "## Notes\n",
    "\n",
    "**This implementation requires Python 3.12, not 3.13.**\n",
    "\n",
    "## Dependencies\n",
    "\n",
    "This Jupyter Notebook solves an OR Advent problem with [Timefold Solver](https://timefold.ai/open-source-solver), the open source planning solver AI. We add it as a dependency:"
   ],
   "id": "6dec503fd3832d94"
  },
  {
   "metadata": {
    "ExecuteTime": {
     "end_time": "2024-12-03T20:34:10.074806Z",
     "start_time": "2024-12-03T20:34:09.707733Z"
    }
   },
   "cell_type": "code",
   "source": "pip install timefold==1.16.0b0",
   "id": "cba987b8c96efaf9",
   "outputs": [
    {
     "name": "stdout",
     "output_type": "stream",
     "text": [
      "Requirement already satisfied: timefold==1.16.0b0 in /Users/geoffreydesmet/projects/demo/timefold-notebooks/python/.venv/lib/python3.12/site-packages (1.16.0b0)\r\n",
      "Requirement already satisfied: JPype1>=1.5.0 in /Users/geoffreydesmet/projects/demo/timefold-notebooks/python/.venv/lib/python3.12/site-packages (from timefold==1.16.0b0) (1.5.0)\r\n",
      "Requirement already satisfied: packaging in /Users/geoffreydesmet/projects/demo/timefold-notebooks/python/.venv/lib/python3.12/site-packages (from JPype1>=1.5.0->timefold==1.16.0b0) (24.1)\r\n",
      "Note: you may need to restart the kernel to use updated packages.\n"
     ]
    }
   ],
   "execution_count": 1
  },
  {
   "metadata": {},
   "cell_type": "markdown",
   "source": [
    "\n",
    "## Domain\n",
    "\n",
    "We need to assign tasks to employees:"
   ],
   "id": "f7db1507e84978a4"
  },
  {
   "metadata": {
    "ExecuteTime": {
     "end_time": "2024-12-03T20:34:10.078038Z",
     "start_time": "2024-12-03T20:34:10.075878Z"
    }
   },
   "cell_type": "code",
   "source": [
    "from dataclasses import dataclass\n",
    "\n",
    "@dataclass\n",
    "class Employee:\n",
    "    id: int"
   ],
   "id": "757137072877cecd",
   "outputs": [],
   "execution_count": 2
  },
  {
   "metadata": {},
   "cell_type": "markdown",
   "source": "This class changes during planning. Timefold Solver fills in the `@PlanningVariable` annotated fields for all instances:",
   "id": "aecc532d51aa902b"
  },
  {
   "metadata": {
    "ExecuteTime": {
     "end_time": "2024-12-03T20:34:10.546028Z",
     "start_time": "2024-12-03T20:34:10.078700Z"
    }
   },
   "cell_type": "code",
   "source": [
    "from timefold.solver.domain import (planning_entity, PlanningVariable, PlanningId)\n",
    "from dataclasses import dataclass, field\n",
    "from typing import (Annotated, Dict)\n",
    "\n",
    "@planning_entity\n",
    "@dataclass\n",
    "class Task:\n",
    "    id: Annotated[int, PlanningId]\n",
    "    employee_cost_map: Dict[int, int] = field(default_factory=dict)\n",
    "    employee: Annotated[Employee | None, PlanningVariable] = field(default=None)\n",
    "\n",
    "\n",
    "    def calc_cost(self) -> int:\n",
    "        if self.employee is None:\n",
    "            return 0\n",
    "        return self.employee_cost_map.get(self.employee.id)"
   ],
   "id": "e0b7bdd54c095a8d",
   "outputs": [],
   "execution_count": 3
  },
  {
   "metadata": {},
   "cell_type": "markdown",
   "source": [
    "## Constraints\n",
    "\n",
    "The solver takes into account hard and soft constraints:"
   ],
   "id": "5de0f51c16a9a40d"
  },
  {
   "metadata": {
    "ExecuteTime": {
     "end_time": "2024-12-03T20:34:11.787872Z",
     "start_time": "2024-12-03T20:34:10.547187Z"
    }
   },
   "cell_type": "code",
   "source": [
    "from timefold.solver.score import (constraint_provider, HardSoftScore, Joiners,\n",
    "                                   ConstraintFactory, Constraint)\n",
    "\n",
    "@constraint_provider\n",
    "def define_constraints(constraint_factory: ConstraintFactory):\n",
    "    return [\n",
    "        # Hard constraints\n",
    "        employee_conflict(constraint_factory),\n",
    "        # Soft constraints\n",
    "        minimize_cost(constraint_factory),\n",
    "    ]\n",
    "\n",
    "\n",
    "def employee_conflict(constraint_factory: ConstraintFactory) -> Constraint:\n",
    "    return (constraint_factory\n",
    "            .for_each_unique_pair(Task,\n",
    "                                  Joiners.equal(lambda task: task.employee))\n",
    "            .penalize(HardSoftScore.ONE_HARD)\n",
    "            .as_constraint(\"Employee conflict\"))\n",
    "\n",
    "\n",
    "def minimize_cost(constraint_factory: ConstraintFactory) -> Constraint:\n",
    "    return (constraint_factory\n",
    "            .for_each(Task)\n",
    "            .penalize(HardSoftScore.ONE_SOFT, lambda task: task.calc_cost())\n",
    "            .as_constraint(\"Minimize cost\"))\n"
   ],
   "id": "fed72b2424334a18",
   "outputs": [],
   "execution_count": 4
  },
  {
   "metadata": {},
   "cell_type": "markdown",
   "source": [
    "### The dataset class\n",
    "\n",
    "This class represents the dataset to solve:"
   ],
   "id": "824dc3b974444a79"
  },
  {
   "metadata": {
    "ExecuteTime": {
     "end_time": "2024-12-03T20:34:11.792289Z",
     "start_time": "2024-12-03T20:34:11.788482Z"
    }
   },
   "cell_type": "code",
   "source": [
    "from timefold.solver.domain import (planning_solution, \n",
    "                                    PlanningEntityCollectionProperty,\n",
    "                                    ValueRangeProvider,\n",
    "                                    PlanningScore)\n",
    "from timefold.solver.score import HardSoftScore\n",
    "from dataclasses import dataclass, field\n",
    "from typing import Annotated\n",
    "\n",
    "@planning_solution\n",
    "@dataclass\n",
    "class OrAdventDataset:\n",
    "    employees: Annotated[list[Employee], ValueRangeProvider]\n",
    "    tasks: Annotated[list[Task],  PlanningEntityCollectionProperty]\n",
    "    score: Annotated[HardSoftScore, PlanningScore] = field(default=None)"
   ],
   "id": "f62624e265cbf78a",
   "outputs": [],
   "execution_count": 5
  },
  {
   "metadata": {},
   "cell_type": "markdown",
   "source": "## Input reader",
   "id": "11a5e12693108afc"
  },
  {
   "metadata": {
    "ExecuteTime": {
     "end_time": "2024-12-03T20:34:11.795246Z",
     "start_time": "2024-12-03T20:34:11.793012Z"
    }
   },
   "cell_type": "code",
   "source": [
    "def read_dataset() -> OrAdventDataset:\n",
    "    \n",
    "    with open(\"../instance.txt\", 'r') as file:\n",
    "        lines = file.readlines()\n",
    "        \n",
    "    data_lines = [line.strip() for line in lines if not line.strip().startswith('#') and line.strip()]\n",
    "\n",
    "    number_of_tasks = 100\n",
    "    employees = [Employee(id=i) for i in range(0, number_of_tasks)]\n",
    "\n",
    "    tasks = []\n",
    "    for task_id, line in enumerate(data_lines):\n",
    "        employee_costs = list(map(int, line.split()))\n",
    "        employee_cost_map = {employee_id: cost for employee_id, cost in enumerate(employee_costs)}\n",
    "        tasks.append(Task(id=task_id, employee_cost_map=employee_cost_map))\n",
    "\n",
    "    return OrAdventDataset(employees, tasks)"
   ],
   "id": "f12e88884314eab9",
   "outputs": [],
   "execution_count": 6
  },
  {
   "metadata": {},
   "cell_type": "markdown",
   "source": [
    "## Solve it\n",
    "\n",
    "Configure and run the solver:"
   ],
   "id": "59d1a178f2e52c55"
  },
  {
   "metadata": {
    "ExecuteTime": {
     "end_time": "2024-12-03T20:34:40.899701Z",
     "start_time": "2024-12-03T20:34:11.795821Z"
    }
   },
   "cell_type": "code",
   "source": [
    "from timefold.solver.config import (SolverConfig, ScoreDirectorFactoryConfig,\n",
    "                                    TerminationConfig, Duration)\n",
    "from timefold.solver import SolverFactory\n",
    "\n",
    "solver_factory = SolverFactory.create(\n",
    "    SolverConfig(\n",
    "        solution_class=OrAdventDataset,\n",
    "        entity_class_list=[Task],\n",
    "        score_director_factory_config=ScoreDirectorFactoryConfig(\n",
    "            constraint_provider_function=define_constraints\n",
    "        ),\n",
    "        termination_config=TerminationConfig(\n",
    "            unimproved_spent_limit=Duration(seconds=5)\n",
    "        )\n",
    "    ))\n",
    "\n",
    "problem = read_dataset()\n",
    "\n",
    "print(f'Solving the problem ...')\n",
    "solver = solver_factory.build_solver()\n",
    "solution = solver.solve(problem)\n",
    "print(f'Solving finished with score ({solution.score}).')"
   ],
   "id": "1ff2655f5e7cb952",
   "outputs": [
    {
     "name": "stdout",
     "output_type": "stream",
     "text": [
      "Solving the problem ...\n",
      "Solving finished with score (0hard/-441soft).\n"
     ]
    }
   ],
   "execution_count": 7
  },
  {
   "metadata": {},
   "cell_type": "markdown",
   "source": "## Visualize the schedule",
   "id": "1507377c5b4202eb"
  },
  {
   "metadata": {
    "ExecuteTime": {
     "end_time": "2024-12-03T20:34:40.903632Z",
     "start_time": "2024-12-03T20:34:40.900526Z"
    }
   },
   "cell_type": "code",
   "source": [
    "from IPython.core.display import HTML\n",
    "\n",
    "html_content = \"<table><tr><th>Task</th><th>Employee</th><th>Cost</th></tr>\"\n",
    "for task in solution.tasks:\n",
    "    html_content += f\"<tr><td>{task.id}</td><td>{task.employee.id}</td><td>{task.calc_cost()}</td></tr>\"\n",
    "html_content += \"</table>\"\n",
    "\n",
    "HTML(html_content)"
   ],
   "id": "c07ec007586d9b1f",
   "execution_count": 8,
   "outputs": [
    {
     "data": {
      "text/plain": [
       "<IPython.core.display.HTML object>"
      ],
      "text/html": [
       "<table><tr><th>Task</th><th>Employee</th><th>Cost</th></tr><tr><td>0</td><td>68</td><td>2</td></tr><tr><td>1</td><td>41</td><td>9</td></tr><tr><td>2</td><td>77</td><td>4</td></tr><tr><td>3</td><td>28</td><td>3</td></tr><tr><td>4</td><td>61</td><td>3</td></tr><tr><td>5</td><td>17</td><td>4</td></tr><tr><td>6</td><td>45</td><td>6</td></tr><tr><td>7</td><td>16</td><td>5</td></tr><tr><td>8</td><td>92</td><td>7</td></tr><tr><td>9</td><td>85</td><td>2</td></tr><tr><td>10</td><td>57</td><td>4</td></tr><tr><td>11</td><td>88</td><td>3</td></tr><tr><td>12</td><td>40</td><td>5</td></tr><tr><td>13</td><td>30</td><td>4</td></tr><tr><td>14</td><td>6</td><td>4</td></tr><tr><td>15</td><td>66</td><td>4</td></tr><tr><td>16</td><td>43</td><td>4</td></tr><tr><td>17</td><td>0</td><td>3</td></tr><tr><td>18</td><td>72</td><td>2</td></tr><tr><td>19</td><td>94</td><td>2</td></tr><tr><td>20</td><td>10</td><td>3</td></tr><tr><td>21</td><td>64</td><td>2</td></tr><tr><td>22</td><td>12</td><td>3</td></tr><tr><td>23</td><td>55</td><td>2</td></tr><tr><td>24</td><td>24</td><td>5</td></tr><tr><td>25</td><td>63</td><td>5</td></tr><tr><td>26</td><td>69</td><td>3</td></tr><tr><td>27</td><td>42</td><td>5</td></tr><tr><td>28</td><td>74</td><td>2</td></tr><tr><td>29</td><td>21</td><td>5</td></tr><tr><td>30</td><td>9</td><td>6</td></tr><tr><td>31</td><td>65</td><td>2</td></tr><tr><td>32</td><td>29</td><td>5</td></tr><tr><td>33</td><td>4</td><td>2</td></tr><tr><td>34</td><td>27</td><td>8</td></tr><tr><td>35</td><td>1</td><td>3</td></tr><tr><td>36</td><td>62</td><td>2</td></tr><tr><td>37</td><td>7</td><td>3</td></tr><tr><td>38</td><td>98</td><td>4</td></tr><tr><td>39</td><td>39</td><td>3</td></tr><tr><td>40</td><td>97</td><td>6</td></tr><tr><td>41</td><td>76</td><td>4</td></tr><tr><td>42</td><td>19</td><td>9</td></tr><tr><td>43</td><td>86</td><td>7</td></tr><tr><td>44</td><td>32</td><td>8</td></tr><tr><td>45</td><td>82</td><td>3</td></tr><tr><td>46</td><td>25</td><td>3</td></tr><tr><td>47</td><td>31</td><td>5</td></tr><tr><td>48</td><td>2</td><td>2</td></tr><tr><td>49</td><td>48</td><td>5</td></tr><tr><td>50</td><td>14</td><td>6</td></tr><tr><td>51</td><td>53</td><td>3</td></tr><tr><td>52</td><td>13</td><td>8</td></tr><tr><td>53</td><td>37</td><td>3</td></tr><tr><td>54</td><td>58</td><td>4</td></tr><tr><td>55</td><td>73</td><td>1</td></tr><tr><td>56</td><td>50</td><td>3</td></tr><tr><td>57</td><td>78</td><td>8</td></tr><tr><td>58</td><td>83</td><td>7</td></tr><tr><td>59</td><td>20</td><td>4</td></tr><tr><td>60</td><td>90</td><td>7</td></tr><tr><td>61</td><td>75</td><td>4</td></tr><tr><td>62</td><td>22</td><td>2</td></tr><tr><td>63</td><td>96</td><td>8</td></tr><tr><td>64</td><td>87</td><td>5</td></tr><tr><td>65</td><td>11</td><td>3</td></tr><tr><td>66</td><td>56</td><td>7</td></tr><tr><td>67</td><td>38</td><td>2</td></tr><tr><td>68</td><td>3</td><td>4</td></tr><tr><td>69</td><td>15</td><td>4</td></tr><tr><td>70</td><td>34</td><td>3</td></tr><tr><td>71</td><td>91</td><td>2</td></tr><tr><td>72</td><td>46</td><td>9</td></tr><tr><td>73</td><td>89</td><td>3</td></tr><tr><td>74</td><td>26</td><td>4</td></tr><tr><td>75</td><td>81</td><td>4</td></tr><tr><td>76</td><td>35</td><td>6</td></tr><tr><td>77</td><td>5</td><td>3</td></tr><tr><td>78</td><td>95</td><td>10</td></tr><tr><td>79</td><td>79</td><td>5</td></tr><tr><td>80</td><td>60</td><td>5</td></tr><tr><td>81</td><td>71</td><td>4</td></tr><tr><td>82</td><td>23</td><td>2</td></tr><tr><td>83</td><td>54</td><td>4</td></tr><tr><td>84</td><td>8</td><td>7</td></tr><tr><td>85</td><td>80</td><td>6</td></tr><tr><td>86</td><td>84</td><td>2</td></tr><tr><td>87</td><td>70</td><td>3</td></tr><tr><td>88</td><td>18</td><td>4</td></tr><tr><td>89</td><td>47</td><td>3</td></tr><tr><td>90</td><td>51</td><td>2</td></tr><tr><td>91</td><td>52</td><td>5</td></tr><tr><td>92</td><td>49</td><td>8</td></tr><tr><td>93</td><td>33</td><td>2</td></tr><tr><td>94</td><td>44</td><td>3</td></tr><tr><td>95</td><td>36</td><td>13</td></tr><tr><td>96</td><td>93</td><td>6</td></tr><tr><td>97</td><td>59</td><td>7</td></tr><tr><td>98</td><td>67</td><td>4</td></tr><tr><td>99</td><td>99</td><td>4</td></tr></table>"
      ]
     },
     "execution_count": 8,
     "metadata": {},
     "output_type": "execute_result"
    }
   ]
  },
  {
   "metadata": {},
   "cell_type": "markdown",
   "source": [
    "## Statistics\n",
    "\n",
    "For a big dataset, a schedule visualization is often too verbose.\n",
    "Let's visualize the solution through statistics:"
   ],
   "id": "af3104e744aaab5c"
  },
  {
   "metadata": {
    "ExecuteTime": {
     "end_time": "2024-12-03T20:34:41.436561Z",
     "start_time": "2024-12-03T20:34:40.904145Z"
    }
   },
   "cell_type": "code",
   "source": [
    "!pip install matplotlib\n",
    "%matplotlib inline"
   ],
   "id": "17a41b0c9d844b70",
   "outputs": [
    {
     "name": "stdout",
     "output_type": "stream",
     "text": [
      "Requirement already satisfied: matplotlib in /Users/geoffreydesmet/projects/demo/timefold-notebooks/python/.venv/lib/python3.12/site-packages (3.9.3)\r\n",
      "Requirement already satisfied: contourpy>=1.0.1 in /Users/geoffreydesmet/projects/demo/timefold-notebooks/python/.venv/lib/python3.12/site-packages (from matplotlib) (1.3.1)\r\n",
      "Requirement already satisfied: cycler>=0.10 in /Users/geoffreydesmet/projects/demo/timefold-notebooks/python/.venv/lib/python3.12/site-packages (from matplotlib) (0.12.1)\r\n",
      "Requirement already satisfied: fonttools>=4.22.0 in /Users/geoffreydesmet/projects/demo/timefold-notebooks/python/.venv/lib/python3.12/site-packages (from matplotlib) (4.55.1)\r\n",
      "Requirement already satisfied: kiwisolver>=1.3.1 in /Users/geoffreydesmet/projects/demo/timefold-notebooks/python/.venv/lib/python3.12/site-packages (from matplotlib) (1.4.7)\r\n",
      "Requirement already satisfied: numpy>=1.23 in /Users/geoffreydesmet/projects/demo/timefold-notebooks/python/.venv/lib/python3.12/site-packages (from matplotlib) (2.1.3)\r\n",
      "Requirement already satisfied: packaging>=20.0 in /Users/geoffreydesmet/projects/demo/timefold-notebooks/python/.venv/lib/python3.12/site-packages (from matplotlib) (24.1)\r\n",
      "Requirement already satisfied: pillow>=8 in /Users/geoffreydesmet/projects/demo/timefold-notebooks/python/.venv/lib/python3.12/site-packages (from matplotlib) (11.0.0)\r\n",
      "Requirement already satisfied: pyparsing>=2.3.1 in /Users/geoffreydesmet/projects/demo/timefold-notebooks/python/.venv/lib/python3.12/site-packages (from matplotlib) (3.2.0)\r\n",
      "Requirement already satisfied: python-dateutil>=2.7 in /Users/geoffreydesmet/projects/demo/timefold-notebooks/python/.venv/lib/python3.12/site-packages (from matplotlib) (2.9.0.post0)\r\n",
      "Requirement already satisfied: six>=1.5 in /Users/geoffreydesmet/projects/demo/timefold-notebooks/python/.venv/lib/python3.12/site-packages (from python-dateutil>=2.7->matplotlib) (1.16.0)\r\n"
     ]
    }
   ],
   "execution_count": 9
  },
  {
   "metadata": {
    "ExecuteTime": {
     "end_time": "2024-12-03T20:34:41.503804Z",
     "start_time": "2024-12-03T20:34:41.439716Z"
    }
   },
   "cell_type": "code",
   "source": [
    "import matplotlib.pyplot as plt\n",
    "from collections import Counter\n",
    "\n",
    "costs = [task.calc_cost() for task in solution.tasks]\n",
    "cost_counts = Counter(costs)\n",
    "\n",
    "plt.bar(cost_counts.keys(), cost_counts.values())\n",
    "plt.xlabel('Cost')\n",
    "plt.ylabel('Number of tasks')\n",
    "plt.title('Number of tasks per cost')\n",
    "plt.show()"
   ],
   "id": "2cfe5c17a0d3b4a8",
   "outputs": [
    {
     "data": {
      "text/plain": [
       "<Figure size 640x480 with 1 Axes>"
      ],
      "image/png": "[encoded data removed]"
     },
     "metadata": {},
     "output_type": "display_data"
    }
   ],
   "execution_count": 10
  },
  {
   "metadata": {},
   "cell_type": "markdown",
   "source": [
    "## Analyze the score\n",
    "\n",
    "Let's break down the score per constraint:"
   ],
   "id": "2ef86c5b9b2f3d70"
  },
  {
   "metadata": {
    "ExecuteTime": {
     "end_time": "2024-12-03T20:34:41.674968Z",
     "start_time": "2024-12-03T20:34:41.504297Z"
    }
   },
   "cell_type": "code",
   "source": [
    "from timefold.solver import SolutionManager\n",
    "\n",
    "solution_manager = SolutionManager.create(solver_factory)\n",
    "score_analysis = solution_manager.analyze(solution)"
   ],
   "id": "21360362608c6152",
   "outputs": [],
   "execution_count": 11
  },
  {
   "metadata": {},
   "cell_type": "markdown",
   "source": "And visualize it:",
   "id": "2c9dd9ef8ac27fff"
  },
  {
   "metadata": {
    "ExecuteTime": {
     "end_time": "2024-12-03T20:34:41.679562Z",
     "start_time": "2024-12-03T20:34:41.675512Z"
    }
   },
   "cell_type": "code",
   "source": [
    "from IPython.core.display import HTML\n",
    "\n",
    "html_content = f\"<p style='font-size: x-large'>Score: {score_analysis.score}</p>\"\n",
    "html_content += \"<ul>\"\n",
    "for constraint in score_analysis.constraint_map.values():\n",
    "    html_content += f\"<li>{constraint.constraint_name}: {constraint.score}</li>\"\n",
    "html_content += \"</ul>\"\n",
    "\n",
    "HTML(html_content)"
   ],
   "id": "cc07c2e07d3ba32",
   "outputs": [
    {
     "data": {
      "text/plain": [
       "<IPython.core.display.HTML object>"
      ],
      "text/html": [
       "<p style='font-size: x-large'>Score: 0hard/-441soft</p><ul><li>Minimize cost: 0hard/-441soft</li><li>Employee conflict: 0hard/0soft</li></ul>"
      ]
     },
     "execution_count": 12,
     "metadata": {},
     "output_type": "execute_result"
    }
   ],
   "execution_count": 12
  },
  {
   "metadata": {},
   "cell_type": "markdown",
   "source": [
    "## Notice\n",
    "\n",
    "This code isn't optimized for benchmarking or scaling.\n",
    "\n",
    "To learn more about planning optimization, visit [docs.timefold.ai](https://docs.timefold.ai)."
   ],
   "id": "ed22948f6b1cbd8c"
  }
 ],
 "metadata": {
  "kernelspec": {
   "display_name": "Python 3",
   "language": "python",
   "name": "python3"
  },
  "language_info": {
   "codemirror_mode": {
    "name": "ipython",
    "version": 2
   },
   "file_extension": ".py",
   "mimetype": "text/x-python",
   "name": "python",
   "nbconvert_exporter": "python",
   "pygments_lexer": "ipython2",
   "version": "2.7.6"
  }
 },
 "nbformat": 4,
 "nbformat_minor": 5
}
