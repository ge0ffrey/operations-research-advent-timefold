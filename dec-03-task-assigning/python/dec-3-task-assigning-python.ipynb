{
 "cells": [
  {
   "metadata": {},
   "cell_type": "markdown",
   "source": [
    "# OR Advent 2024 December 3: task assigning (Python)\n",
    "\n",
    "## Assignment\n",
    "\n",
    "Hey, ORville here\n",
    "\n",
    "I'm a logistics manager overseeing the allocation of tasks to employees in our company, FurnitORe.\n",
    "\n",
    "Right now we have 100 tasks that need to be completed, and we also have 100 employees available to handle them.\n",
    "\n",
    "The catch is that assigning a task to an employee has a cost.\n",
    "\n",
    "These costs vary depending on the difficulty of the task, the expertise of the employee, and other factors.\n",
    "\n",
    "I need your help to figure out the most cost-effective way to assign these tasks to employees.\n",
    "\n",
    "You can assume that each task is done by just one employee, and one employee is assigned to just one task.\n",
    "\n",
    "Can you help me solve this problem?\n",
    "\n",
    "## Notes\n",
    "\n",
    "**This implementation requires Python 3.12, not 3.13.**\n",
    "\n",
    "## Dependencies\n",
    "\n",
    "This Jupyter Notebook solves an OR Advent problem with [Timefold Solver](https://timefold.ai/open-source-solver), the open source planning solver AI. We add it as a dependency:"
   ],
   "id": "6dec503fd3832d94"
  },
  {
   "metadata": {
    "ExecuteTime": {
     "end_time": "2024-12-03T20:09:39.236393Z",
     "start_time": "2024-12-03T20:09:38.901187Z"
    }
   },
   "cell_type": "code",
   "source": "pip install timefold==1.16.0b0",
   "id": "cba987b8c96efaf9",
   "outputs": [
    {
     "name": "stdout",
     "output_type": "stream",
     "text": [
      "Requirement already satisfied: timefold==1.16.0b0 in /Users/geoffreydesmet/projects/demo/timefold-notebooks/python/.venv/lib/python3.12/site-packages (1.16.0b0)\r\n",
      "Requirement already satisfied: JPype1>=1.5.0 in /Users/geoffreydesmet/projects/demo/timefold-notebooks/python/.venv/lib/python3.12/site-packages (from timefold==1.16.0b0) (1.5.0)\r\n",
      "Requirement already satisfied: packaging in /Users/geoffreydesmet/projects/demo/timefold-notebooks/python/.venv/lib/python3.12/site-packages (from JPype1>=1.5.0->timefold==1.16.0b0) (24.1)\r\n",
      "Note: you may need to restart the kernel to use updated packages.\n"
     ]
    }
   ],
   "execution_count": 1
  },
  {
   "metadata": {},
   "cell_type": "markdown",
   "source": [
    "\n",
    "## Domain\n",
    "\n",
    "We need to assign tasks to employees:"
   ],
   "id": "f7db1507e84978a4"
  },
  {
   "metadata": {
    "ExecuteTime": {
     "end_time": "2024-12-03T20:09:39.239263Z",
     "start_time": "2024-12-03T20:09:39.237327Z"
    }
   },
   "cell_type": "code",
   "source": [
    "from dataclasses import dataclass\n",
    "\n",
    "@dataclass\n",
    "class Employee:\n",
    "    id: int"
   ],
   "id": "757137072877cecd",
   "outputs": [],
   "execution_count": 2
  },
  {
   "metadata": {},
   "cell_type": "markdown",
   "source": "This class changes during planning. Timefold Solver fills in the `@PlanningVariable` annotated fields for all instances:",
   "id": "aecc532d51aa902b"
  },
  {
   "metadata": {
    "ExecuteTime": {
     "end_time": "2024-12-03T20:09:39.690378Z",
     "start_time": "2024-12-03T20:09:39.239755Z"
    }
   },
   "cell_type": "code",
   "source": [
    "from timefold.solver.domain import (planning_entity, PlanningVariable, PlanningId)\n",
    "from dataclasses import dataclass, field\n",
    "from typing import (Annotated, Dict)\n",
    "\n",
    "@planning_entity\n",
    "@dataclass\n",
    "class Task:\n",
    "    id: Annotated[int, PlanningId]\n",
    "    employee_cost_map: Dict[int, int] = field(default_factory=dict)\n",
    "    employee: Annotated[Employee | None, PlanningVariable] = field(default=None)\n",
    "\n",
    "\n",
    "    def calc_cost(self) -> int:\n",
    "        if self.employee is None:\n",
    "            return 0\n",
    "        return self.employee_cost_map.get(self.employee.id)"
   ],
   "id": "e0b7bdd54c095a8d",
   "outputs": [],
   "execution_count": 3
  },
  {
   "metadata": {},
   "cell_type": "markdown",
   "source": [
    "## Constraints\n",
    "\n",
    "The solver takes into account hard and soft constraints:"
   ],
   "id": "5de0f51c16a9a40d"
  },
  {
   "metadata": {
    "ExecuteTime": {
     "end_time": "2024-12-03T20:09:40.860730Z",
     "start_time": "2024-12-03T20:09:39.691646Z"
    }
   },
   "cell_type": "code",
   "source": [
    "from timefold.solver.score import (constraint_provider, HardSoftScore, Joiners,\n",
    "                                   ConstraintFactory, Constraint)\n",
    "\n",
    "@constraint_provider\n",
    "def define_constraints(constraint_factory: ConstraintFactory):\n",
    "    return [\n",
    "        # Hard constraints\n",
    "        employee_conflict(constraint_factory),\n",
    "        # Soft constraints\n",
    "        minimize_cost(constraint_factory),\n",
    "    ]\n",
    "\n",
    "\n",
    "def employee_conflict(constraint_factory: ConstraintFactory) -> Constraint:\n",
    "    return (constraint_factory\n",
    "            .for_each_unique_pair(Task,\n",
    "                                  Joiners.equal(lambda task: task.employee))\n",
    "            .penalize(HardSoftScore.ONE_HARD)\n",
    "            .as_constraint(\"Employee conflict\"))\n",
    "\n",
    "\n",
    "def minimize_cost(constraint_factory: ConstraintFactory) -> Constraint:\n",
    "    return (constraint_factory\n",
    "            .for_each(Task)\n",
    "            .penalize(HardSoftScore.ONE_SOFT, lambda task: task.calc_cost())\n",
    "            .as_constraint(\"Minimize cost\"))\n"
   ],
   "id": "fed72b2424334a18",
   "outputs": [],
   "execution_count": 4
  },
  {
   "metadata": {},
   "cell_type": "markdown",
   "source": [
    "### The dataset class\n",
    "\n",
    "This class represents the dataset to solve:"
   ],
   "id": "824dc3b974444a79"
  },
  {
   "metadata": {
    "ExecuteTime": {
     "end_time": "2024-12-03T20:09:40.865401Z",
     "start_time": "2024-12-03T20:09:40.861394Z"
    }
   },
   "cell_type": "code",
   "source": [
    "from timefold.solver.domain import (planning_solution, \n",
    "                                    PlanningEntityCollectionProperty,\n",
    "                                    ValueRangeProvider,\n",
    "                                    PlanningScore)\n",
    "from timefold.solver.score import HardSoftScore\n",
    "from dataclasses import dataclass, field\n",
    "from typing import Annotated\n",
    "\n",
    "@planning_solution\n",
    "@dataclass\n",
    "class OrAdventDataset:\n",
    "    employees: Annotated[list[Employee], ValueRangeProvider]\n",
    "    tasks: Annotated[list[Task],  PlanningEntityCollectionProperty]\n",
    "    score: Annotated[HardSoftScore, PlanningScore] = field(default=None)"
   ],
   "id": "f62624e265cbf78a",
   "outputs": [],
   "execution_count": 5
  },
  {
   "metadata": {},
   "cell_type": "markdown",
   "source": "## Input reader",
   "id": "11a5e12693108afc"
  },
  {
   "metadata": {
    "ExecuteTime": {
     "end_time": "2024-12-03T20:09:40.868199Z",
     "start_time": "2024-12-03T20:09:40.865966Z"
    }
   },
   "cell_type": "code",
   "source": [
    "def read_dataset() -> OrAdventDataset:\n",
    "    \n",
    "    with open(\"../instance.txt\", 'r') as file:\n",
    "        lines = file.readlines()\n",
    "        \n",
    "    data_lines = [line.strip() for line in lines if not line.strip().startswith('#') and line.strip()]\n",
    "\n",
    "    number_of_tasks = 100\n",
    "    employees = [Employee(id=i) for i in range(0, number_of_tasks)]\n",
    "\n",
    "    tasks = []\n",
    "    for task_id, line in enumerate(data_lines):\n",
    "        employee_costs = list(map(int, line.split()))\n",
    "        employee_cost_map = {employee_id: cost for employee_id, cost in enumerate(employee_costs)}\n",
    "        tasks.append(Task(id=task_id, employee_cost_map=employee_cost_map))\n",
    "\n",
    "    return OrAdventDataset(employees, tasks)"
   ],
   "id": "f12e88884314eab9",
   "outputs": [],
   "execution_count": 6
  },
  {
   "metadata": {},
   "cell_type": "markdown",
   "source": [
    "## Solve it\n",
    "\n",
    "Configure and run the solver:"
   ],
   "id": "59d1a178f2e52c55"
  },
  {
   "metadata": {
    "ExecuteTime": {
     "end_time": "2024-12-03T20:10:10.794258Z",
     "start_time": "2024-12-03T20:09:40.868829Z"
    }
   },
   "cell_type": "code",
   "source": [
    "from timefold.solver.config import (SolverConfig, ScoreDirectorFactoryConfig,\n",
    "                                    TerminationConfig, Duration)\n",
    "from timefold.solver import SolverFactory\n",
    "\n",
    "solver_factory = SolverFactory.create(\n",
    "    SolverConfig(\n",
    "        solution_class=OrAdventDataset,\n",
    "        entity_class_list=[Task],\n",
    "        score_director_factory_config=ScoreDirectorFactoryConfig(\n",
    "            constraint_provider_function=define_constraints\n",
    "        ),\n",
    "        termination_config=TerminationConfig(\n",
    "            unimproved_spent_limit=Duration(seconds=5)\n",
    "        )\n",
    "    ))\n",
    "\n",
    "problem = read_dataset()\n",
    "\n",
    "print(f'Solving the problem ...')\n",
    "solver = solver_factory.build_solver()\n",
    "solution = solver.solve(problem)\n",
    "print(f'Solving finished with score ({solution.score}).')"
   ],
   "id": "1ff2655f5e7cb952",
   "outputs": [
    {
     "name": "stdout",
     "output_type": "stream",
     "text": [
      "Solving the problem ...\n",
      "Solving finished with score (0hard/-441soft).\n"
     ]
    }
   ],
   "execution_count": 7
  },
  {
   "metadata": {},
   "cell_type": "markdown",
   "source": "## Visualize the schedule",
   "id": "1507377c5b4202eb"
  },
  {
   "metadata": {
    "ExecuteTime": {
     "end_time": "2024-12-03T20:10:10.795931Z",
     "start_time": "2024-12-03T20:10:10.794906Z"
    }
   },
   "cell_type": "code",
   "source": "",
   "id": "c07ec007586d9b1f",
   "execution_count": 7,
   "outputs": []
  },
  {
   "metadata": {},
   "cell_type": "markdown",
   "source": [
    "## Statistics\n",
    "\n",
    "For a big dataset, a schedule visualization is often too verbose.\n",
    "Let's visualize the solution through statistics:"
   ],
   "id": "af3104e744aaab5c"
  },
  {
   "metadata": {},
   "cell_type": "markdown",
   "source": [
    "## Analyze the score\n",
    "\n",
    "Let's break down the score per constraint:"
   ],
   "id": "2ef86c5b9b2f3d70"
  },
  {
   "metadata": {
    "ExecuteTime": {
     "end_time": "2024-12-03T20:10:10.967859Z",
     "start_time": "2024-12-03T20:10:10.796584Z"
    }
   },
   "cell_type": "code",
   "source": [
    "from timefold.solver import SolutionManager\n",
    "\n",
    "solution_manager = SolutionManager.create(solver_factory)\n",
    "score_analysis = solution_manager.analyze(solution)"
   ],
   "id": "21360362608c6152",
   "outputs": [],
   "execution_count": 8
  },
  {
   "metadata": {},
   "cell_type": "markdown",
   "source": "And visualize it:",
   "id": "2c9dd9ef8ac27fff"
  },
  {
   "metadata": {
    "ExecuteTime": {
     "end_time": "2024-12-03T20:10:10.974095Z",
     "start_time": "2024-12-03T20:10:10.969523Z"
    }
   },
   "cell_type": "code",
   "source": [
    "from IPython.core.display import HTML\n",
    "\n",
    "html_content = f\"<p style='font-size: x-large'>Score: {score_analysis.score}</p>\"\n",
    "html_content += \"<ul>\"\n",
    "for constraint in score_analysis.constraint_map.values():\n",
    "    html_content += f\"<li>{constraint.constraint_name}: {constraint.score}</li>\"\n",
    "html_content += \"</ul>\"\n",
    "\n",
    "HTML(html_content)"
   ],
   "id": "cc07c2e07d3ba32",
   "outputs": [
    {
     "data": {
      "text/plain": [
       "<IPython.core.display.HTML object>"
      ],
      "text/html": [
       "<p style='font-size: x-large'>Score: 0hard/-441soft</p><ul><li>Minimize cost: 0hard/-441soft</li><li>Employee conflict: 0hard/0soft</li></ul>"
      ]
     },
     "execution_count": 9,
     "metadata": {},
     "output_type": "execute_result"
    }
   ],
   "execution_count": 9
  },
  {
   "metadata": {},
   "cell_type": "markdown",
   "source": [
    "## Notice\n",
    "\n",
    "This code isn't optimized for benchmarking or scaling.\n",
    "\n",
    "To learn more about planning optimization, visit [docs.timefold.ai](https://docs.timefold.ai)."
   ],
   "id": "ed22948f6b1cbd8c"
  }
 ],
 "metadata": {
  "kernelspec": {
   "display_name": "Python 3",
   "language": "python",
   "name": "python3"
  },
  "language_info": {
   "codemirror_mode": {
    "name": "ipython",
    "version": 2
   },
   "file_extension": ".py",
   "mimetype": "text/x-python",
   "name": "python",
   "nbconvert_exporter": "python",
   "pygments_lexer": "ipython2",
   "version": "2.7.6"
  }
 },
 "nbformat": 4,
 "nbformat_minor": 5
}
